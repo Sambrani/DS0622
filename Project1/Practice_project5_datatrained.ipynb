{
 "cells": [
  {
   "cell_type": "code",
   "execution_count": 1,
   "id": "46bef932",
   "metadata": {},
   "outputs": [],
   "source": [
    "#-----------------------------------Glass Identification Dataset-------------------------------------------------\n",
    "#import the required libraries\n",
    "#Import the libraries\n",
    "import numpy as np\n",
    "import pandas as pd\n",
    "import sklearn\n",
    "import matplotlib.pyplot as plt\n",
    "import seaborn as sns\n",
    "from sklearn.model_selection import train_test_split"
   ]
  },
  {
   "cell_type": "code",
   "execution_count": 2,
   "id": "eb035ac2",
   "metadata": {},
   "outputs": [],
   "source": [
    "df = pd.read_csv(\"glass.csv\", names=[\"ID Number\",\"Refractive_index\", \"Sodium\", \"Magnesium\", \"Aluminum\", \"Silicon\", \"Potassium\", \"Calcium\", \"Barium\", \"Iron\", \"Type_of_glass\"])"
   ]
  },
  {
   "cell_type": "code",
   "execution_count": 3,
   "id": "6d8ab5d5",
   "metadata": {},
   "outputs": [
    {
     "data": {
      "text/html": [
       "<div>\n",
       "<style scoped>\n",
       "    .dataframe tbody tr th:only-of-type {\n",
       "        vertical-align: middle;\n",
       "    }\n",
       "\n",
       "    .dataframe tbody tr th {\n",
       "        vertical-align: top;\n",
       "    }\n",
       "\n",
       "    .dataframe thead th {\n",
       "        text-align: right;\n",
       "    }\n",
       "</style>\n",
       "<table border=\"1\" class=\"dataframe\">\n",
       "  <thead>\n",
       "    <tr style=\"text-align: right;\">\n",
       "      <th></th>\n",
       "      <th>ID Number</th>\n",
       "      <th>Refractive_index</th>\n",
       "      <th>Sodium</th>\n",
       "      <th>Magnesium</th>\n",
       "      <th>Aluminum</th>\n",
       "      <th>Silicon</th>\n",
       "      <th>Potassium</th>\n",
       "      <th>Calcium</th>\n",
       "      <th>Barium</th>\n",
       "      <th>Iron</th>\n",
       "      <th>Type_of_glass</th>\n",
       "    </tr>\n",
       "  </thead>\n",
       "  <tbody>\n",
       "    <tr>\n",
       "      <th>0</th>\n",
       "      <td>1</td>\n",
       "      <td>1.52101</td>\n",
       "      <td>13.64</td>\n",
       "      <td>4.49</td>\n",
       "      <td>1.10</td>\n",
       "      <td>71.78</td>\n",
       "      <td>0.06</td>\n",
       "      <td>8.75</td>\n",
       "      <td>0.00</td>\n",
       "      <td>0.0</td>\n",
       "      <td>1</td>\n",
       "    </tr>\n",
       "    <tr>\n",
       "      <th>1</th>\n",
       "      <td>2</td>\n",
       "      <td>1.51761</td>\n",
       "      <td>13.89</td>\n",
       "      <td>3.60</td>\n",
       "      <td>1.36</td>\n",
       "      <td>72.73</td>\n",
       "      <td>0.48</td>\n",
       "      <td>7.83</td>\n",
       "      <td>0.00</td>\n",
       "      <td>0.0</td>\n",
       "      <td>1</td>\n",
       "    </tr>\n",
       "    <tr>\n",
       "      <th>2</th>\n",
       "      <td>3</td>\n",
       "      <td>1.51618</td>\n",
       "      <td>13.53</td>\n",
       "      <td>3.55</td>\n",
       "      <td>1.54</td>\n",
       "      <td>72.99</td>\n",
       "      <td>0.39</td>\n",
       "      <td>7.78</td>\n",
       "      <td>0.00</td>\n",
       "      <td>0.0</td>\n",
       "      <td>1</td>\n",
       "    </tr>\n",
       "    <tr>\n",
       "      <th>3</th>\n",
       "      <td>4</td>\n",
       "      <td>1.51766</td>\n",
       "      <td>13.21</td>\n",
       "      <td>3.69</td>\n",
       "      <td>1.29</td>\n",
       "      <td>72.61</td>\n",
       "      <td>0.57</td>\n",
       "      <td>8.22</td>\n",
       "      <td>0.00</td>\n",
       "      <td>0.0</td>\n",
       "      <td>1</td>\n",
       "    </tr>\n",
       "    <tr>\n",
       "      <th>4</th>\n",
       "      <td>5</td>\n",
       "      <td>1.51742</td>\n",
       "      <td>13.27</td>\n",
       "      <td>3.62</td>\n",
       "      <td>1.24</td>\n",
       "      <td>73.08</td>\n",
       "      <td>0.55</td>\n",
       "      <td>8.07</td>\n",
       "      <td>0.00</td>\n",
       "      <td>0.0</td>\n",
       "      <td>1</td>\n",
       "    </tr>\n",
       "    <tr>\n",
       "      <th>...</th>\n",
       "      <td>...</td>\n",
       "      <td>...</td>\n",
       "      <td>...</td>\n",
       "      <td>...</td>\n",
       "      <td>...</td>\n",
       "      <td>...</td>\n",
       "      <td>...</td>\n",
       "      <td>...</td>\n",
       "      <td>...</td>\n",
       "      <td>...</td>\n",
       "      <td>...</td>\n",
       "    </tr>\n",
       "    <tr>\n",
       "      <th>209</th>\n",
       "      <td>210</td>\n",
       "      <td>1.51623</td>\n",
       "      <td>14.14</td>\n",
       "      <td>0.00</td>\n",
       "      <td>2.88</td>\n",
       "      <td>72.61</td>\n",
       "      <td>0.08</td>\n",
       "      <td>9.18</td>\n",
       "      <td>1.06</td>\n",
       "      <td>0.0</td>\n",
       "      <td>7</td>\n",
       "    </tr>\n",
       "    <tr>\n",
       "      <th>210</th>\n",
       "      <td>211</td>\n",
       "      <td>1.51685</td>\n",
       "      <td>14.92</td>\n",
       "      <td>0.00</td>\n",
       "      <td>1.99</td>\n",
       "      <td>73.06</td>\n",
       "      <td>0.00</td>\n",
       "      <td>8.40</td>\n",
       "      <td>1.59</td>\n",
       "      <td>0.0</td>\n",
       "      <td>7</td>\n",
       "    </tr>\n",
       "    <tr>\n",
       "      <th>211</th>\n",
       "      <td>212</td>\n",
       "      <td>1.52065</td>\n",
       "      <td>14.36</td>\n",
       "      <td>0.00</td>\n",
       "      <td>2.02</td>\n",
       "      <td>73.42</td>\n",
       "      <td>0.00</td>\n",
       "      <td>8.44</td>\n",
       "      <td>1.64</td>\n",
       "      <td>0.0</td>\n",
       "      <td>7</td>\n",
       "    </tr>\n",
       "    <tr>\n",
       "      <th>212</th>\n",
       "      <td>213</td>\n",
       "      <td>1.51651</td>\n",
       "      <td>14.38</td>\n",
       "      <td>0.00</td>\n",
       "      <td>1.94</td>\n",
       "      <td>73.61</td>\n",
       "      <td>0.00</td>\n",
       "      <td>8.48</td>\n",
       "      <td>1.57</td>\n",
       "      <td>0.0</td>\n",
       "      <td>7</td>\n",
       "    </tr>\n",
       "    <tr>\n",
       "      <th>213</th>\n",
       "      <td>214</td>\n",
       "      <td>1.51711</td>\n",
       "      <td>14.23</td>\n",
       "      <td>0.00</td>\n",
       "      <td>2.08</td>\n",
       "      <td>73.36</td>\n",
       "      <td>0.00</td>\n",
       "      <td>8.62</td>\n",
       "      <td>1.67</td>\n",
       "      <td>0.0</td>\n",
       "      <td>7</td>\n",
       "    </tr>\n",
       "  </tbody>\n",
       "</table>\n",
       "<p>214 rows × 11 columns</p>\n",
       "</div>"
      ],
      "text/plain": [
       "     ID Number  Refractive_index  Sodium  Magnesium  Aluminum  Silicon  \\\n",
       "0            1           1.52101   13.64       4.49      1.10    71.78   \n",
       "1            2           1.51761   13.89       3.60      1.36    72.73   \n",
       "2            3           1.51618   13.53       3.55      1.54    72.99   \n",
       "3            4           1.51766   13.21       3.69      1.29    72.61   \n",
       "4            5           1.51742   13.27       3.62      1.24    73.08   \n",
       "..         ...               ...     ...        ...       ...      ...   \n",
       "209        210           1.51623   14.14       0.00      2.88    72.61   \n",
       "210        211           1.51685   14.92       0.00      1.99    73.06   \n",
       "211        212           1.52065   14.36       0.00      2.02    73.42   \n",
       "212        213           1.51651   14.38       0.00      1.94    73.61   \n",
       "213        214           1.51711   14.23       0.00      2.08    73.36   \n",
       "\n",
       "     Potassium  Calcium  Barium  Iron  Type_of_glass  \n",
       "0         0.06     8.75    0.00   0.0              1  \n",
       "1         0.48     7.83    0.00   0.0              1  \n",
       "2         0.39     7.78    0.00   0.0              1  \n",
       "3         0.57     8.22    0.00   0.0              1  \n",
       "4         0.55     8.07    0.00   0.0              1  \n",
       "..         ...      ...     ...   ...            ...  \n",
       "209       0.08     9.18    1.06   0.0              7  \n",
       "210       0.00     8.40    1.59   0.0              7  \n",
       "211       0.00     8.44    1.64   0.0              7  \n",
       "212       0.00     8.48    1.57   0.0              7  \n",
       "213       0.00     8.62    1.67   0.0              7  \n",
       "\n",
       "[214 rows x 11 columns]"
      ]
     },
     "execution_count": 3,
     "metadata": {},
     "output_type": "execute_result"
    }
   ],
   "source": [
    "df"
   ]
  },
  {
   "cell_type": "code",
   "execution_count": 5,
   "id": "87702dc6",
   "metadata": {},
   "outputs": [
    {
     "data": {
      "text/html": [
       "<div>\n",
       "<style scoped>\n",
       "    .dataframe tbody tr th:only-of-type {\n",
       "        vertical-align: middle;\n",
       "    }\n",
       "\n",
       "    .dataframe tbody tr th {\n",
       "        vertical-align: top;\n",
       "    }\n",
       "\n",
       "    .dataframe thead th {\n",
       "        text-align: right;\n",
       "    }\n",
       "</style>\n",
       "<table border=\"1\" class=\"dataframe\">\n",
       "  <thead>\n",
       "    <tr style=\"text-align: right;\">\n",
       "      <th></th>\n",
       "      <th>ID Number</th>\n",
       "      <th>Refractive_index</th>\n",
       "      <th>Sodium</th>\n",
       "      <th>Magnesium</th>\n",
       "      <th>Aluminum</th>\n",
       "      <th>Silicon</th>\n",
       "      <th>Potassium</th>\n",
       "      <th>Calcium</th>\n",
       "      <th>Barium</th>\n",
       "      <th>Iron</th>\n",
       "      <th>Type_of_glass</th>\n",
       "    </tr>\n",
       "  </thead>\n",
       "  <tbody>\n",
       "    <tr>\n",
       "      <th>213</th>\n",
       "      <td>214</td>\n",
       "      <td>1.51711</td>\n",
       "      <td>14.23</td>\n",
       "      <td>0.00</td>\n",
       "      <td>2.08</td>\n",
       "      <td>73.36</td>\n",
       "      <td>0.00</td>\n",
       "      <td>8.62</td>\n",
       "      <td>1.67</td>\n",
       "      <td>0.00</td>\n",
       "      <td>7</td>\n",
       "    </tr>\n",
       "    <tr>\n",
       "      <th>153</th>\n",
       "      <td>154</td>\n",
       "      <td>1.51610</td>\n",
       "      <td>13.42</td>\n",
       "      <td>3.40</td>\n",
       "      <td>1.22</td>\n",
       "      <td>72.69</td>\n",
       "      <td>0.59</td>\n",
       "      <td>8.32</td>\n",
       "      <td>0.00</td>\n",
       "      <td>0.00</td>\n",
       "      <td>3</td>\n",
       "    </tr>\n",
       "    <tr>\n",
       "      <th>46</th>\n",
       "      <td>47</td>\n",
       "      <td>1.51869</td>\n",
       "      <td>13.19</td>\n",
       "      <td>3.37</td>\n",
       "      <td>1.18</td>\n",
       "      <td>72.72</td>\n",
       "      <td>0.57</td>\n",
       "      <td>8.83</td>\n",
       "      <td>0.00</td>\n",
       "      <td>0.16</td>\n",
       "      <td>1</td>\n",
       "    </tr>\n",
       "    <tr>\n",
       "      <th>140</th>\n",
       "      <td>141</td>\n",
       "      <td>1.51690</td>\n",
       "      <td>13.33</td>\n",
       "      <td>3.54</td>\n",
       "      <td>1.61</td>\n",
       "      <td>72.54</td>\n",
       "      <td>0.68</td>\n",
       "      <td>8.11</td>\n",
       "      <td>0.00</td>\n",
       "      <td>0.00</td>\n",
       "      <td>2</td>\n",
       "    </tr>\n",
       "    <tr>\n",
       "      <th>208</th>\n",
       "      <td>209</td>\n",
       "      <td>1.51640</td>\n",
       "      <td>14.37</td>\n",
       "      <td>0.00</td>\n",
       "      <td>2.74</td>\n",
       "      <td>72.85</td>\n",
       "      <td>0.00</td>\n",
       "      <td>9.45</td>\n",
       "      <td>0.54</td>\n",
       "      <td>0.00</td>\n",
       "      <td>7</td>\n",
       "    </tr>\n",
       "    <tr>\n",
       "      <th>203</th>\n",
       "      <td>204</td>\n",
       "      <td>1.51658</td>\n",
       "      <td>14.80</td>\n",
       "      <td>0.00</td>\n",
       "      <td>1.99</td>\n",
       "      <td>73.11</td>\n",
       "      <td>0.00</td>\n",
       "      <td>8.28</td>\n",
       "      <td>1.71</td>\n",
       "      <td>0.00</td>\n",
       "      <td>7</td>\n",
       "    </tr>\n",
       "    <tr>\n",
       "      <th>28</th>\n",
       "      <td>29</td>\n",
       "      <td>1.51768</td>\n",
       "      <td>12.56</td>\n",
       "      <td>3.52</td>\n",
       "      <td>1.43</td>\n",
       "      <td>73.15</td>\n",
       "      <td>0.57</td>\n",
       "      <td>8.54</td>\n",
       "      <td>0.00</td>\n",
       "      <td>0.00</td>\n",
       "      <td>1</td>\n",
       "    </tr>\n",
       "    <tr>\n",
       "      <th>95</th>\n",
       "      <td>96</td>\n",
       "      <td>1.51860</td>\n",
       "      <td>13.36</td>\n",
       "      <td>3.43</td>\n",
       "      <td>1.43</td>\n",
       "      <td>72.26</td>\n",
       "      <td>0.51</td>\n",
       "      <td>8.60</td>\n",
       "      <td>0.00</td>\n",
       "      <td>0.00</td>\n",
       "      <td>2</td>\n",
       "    </tr>\n",
       "    <tr>\n",
       "      <th>184</th>\n",
       "      <td>185</td>\n",
       "      <td>1.51115</td>\n",
       "      <td>17.38</td>\n",
       "      <td>0.00</td>\n",
       "      <td>0.34</td>\n",
       "      <td>75.41</td>\n",
       "      <td>0.00</td>\n",
       "      <td>6.65</td>\n",
       "      <td>0.00</td>\n",
       "      <td>0.00</td>\n",
       "      <td>6</td>\n",
       "    </tr>\n",
       "    <tr>\n",
       "      <th>171</th>\n",
       "      <td>172</td>\n",
       "      <td>1.51316</td>\n",
       "      <td>13.02</td>\n",
       "      <td>0.00</td>\n",
       "      <td>3.04</td>\n",
       "      <td>70.48</td>\n",
       "      <td>6.21</td>\n",
       "      <td>6.96</td>\n",
       "      <td>0.00</td>\n",
       "      <td>0.00</td>\n",
       "      <td>5</td>\n",
       "    </tr>\n",
       "  </tbody>\n",
       "</table>\n",
       "</div>"
      ],
      "text/plain": [
       "     ID Number  Refractive_index  Sodium  Magnesium  Aluminum  Silicon  \\\n",
       "213        214           1.51711   14.23       0.00      2.08    73.36   \n",
       "153        154           1.51610   13.42       3.40      1.22    72.69   \n",
       "46          47           1.51869   13.19       3.37      1.18    72.72   \n",
       "140        141           1.51690   13.33       3.54      1.61    72.54   \n",
       "208        209           1.51640   14.37       0.00      2.74    72.85   \n",
       "203        204           1.51658   14.80       0.00      1.99    73.11   \n",
       "28          29           1.51768   12.56       3.52      1.43    73.15   \n",
       "95          96           1.51860   13.36       3.43      1.43    72.26   \n",
       "184        185           1.51115   17.38       0.00      0.34    75.41   \n",
       "171        172           1.51316   13.02       0.00      3.04    70.48   \n",
       "\n",
       "     Potassium  Calcium  Barium  Iron  Type_of_glass  \n",
       "213       0.00     8.62    1.67  0.00              7  \n",
       "153       0.59     8.32    0.00  0.00              3  \n",
       "46        0.57     8.83    0.00  0.16              1  \n",
       "140       0.68     8.11    0.00  0.00              2  \n",
       "208       0.00     9.45    0.54  0.00              7  \n",
       "203       0.00     8.28    1.71  0.00              7  \n",
       "28        0.57     8.54    0.00  0.00              1  \n",
       "95        0.51     8.60    0.00  0.00              2  \n",
       "184       0.00     6.65    0.00  0.00              6  \n",
       "171       6.21     6.96    0.00  0.00              5  "
      ]
     },
     "execution_count": 5,
     "metadata": {},
     "output_type": "execute_result"
    }
   ],
   "source": [
    "df.sample(10)"
   ]
  },
  {
   "cell_type": "code",
   "execution_count": 6,
   "id": "35b977b9",
   "metadata": {},
   "outputs": [
    {
     "data": {
      "text/plain": [
       "(214, 11)"
      ]
     },
     "execution_count": 6,
     "metadata": {},
     "output_type": "execute_result"
    }
   ],
   "source": [
    "df.shape"
   ]
  },
  {
   "cell_type": "code",
   "execution_count": null,
   "id": "fac41003",
   "metadata": {},
   "outputs": [],
   "source": [
    "#Here the data is continous in nature as well as the dimension is not very high, the cardinality is very high in the target column"
   ]
  },
  {
   "cell_type": "code",
   "execution_count": 7,
   "id": "a07ed8ef",
   "metadata": {},
   "outputs": [
    {
     "data": {
      "text/html": [
       "<div>\n",
       "<style scoped>\n",
       "    .dataframe tbody tr th:only-of-type {\n",
       "        vertical-align: middle;\n",
       "    }\n",
       "\n",
       "    .dataframe tbody tr th {\n",
       "        vertical-align: top;\n",
       "    }\n",
       "\n",
       "    .dataframe thead th {\n",
       "        text-align: right;\n",
       "    }\n",
       "</style>\n",
       "<table border=\"1\" class=\"dataframe\">\n",
       "  <thead>\n",
       "    <tr style=\"text-align: right;\">\n",
       "      <th></th>\n",
       "      <th>ID Number</th>\n",
       "      <th>Refractive_index</th>\n",
       "      <th>Sodium</th>\n",
       "      <th>Magnesium</th>\n",
       "      <th>Aluminum</th>\n",
       "      <th>Silicon</th>\n",
       "      <th>Potassium</th>\n",
       "      <th>Calcium</th>\n",
       "      <th>Barium</th>\n",
       "      <th>Iron</th>\n",
       "      <th>Type_of_glass</th>\n",
       "    </tr>\n",
       "  </thead>\n",
       "  <tbody>\n",
       "    <tr>\n",
       "      <th>0</th>\n",
       "      <td>1</td>\n",
       "      <td>1.52101</td>\n",
       "      <td>13.64</td>\n",
       "      <td>4.49</td>\n",
       "      <td>1.10</td>\n",
       "      <td>71.78</td>\n",
       "      <td>0.06</td>\n",
       "      <td>8.75</td>\n",
       "      <td>0.0</td>\n",
       "      <td>0.0</td>\n",
       "      <td>1</td>\n",
       "    </tr>\n",
       "    <tr>\n",
       "      <th>1</th>\n",
       "      <td>2</td>\n",
       "      <td>1.51761</td>\n",
       "      <td>13.89</td>\n",
       "      <td>3.60</td>\n",
       "      <td>1.36</td>\n",
       "      <td>72.73</td>\n",
       "      <td>0.48</td>\n",
       "      <td>7.83</td>\n",
       "      <td>0.0</td>\n",
       "      <td>0.0</td>\n",
       "      <td>1</td>\n",
       "    </tr>\n",
       "    <tr>\n",
       "      <th>2</th>\n",
       "      <td>3</td>\n",
       "      <td>1.51618</td>\n",
       "      <td>13.53</td>\n",
       "      <td>3.55</td>\n",
       "      <td>1.54</td>\n",
       "      <td>72.99</td>\n",
       "      <td>0.39</td>\n",
       "      <td>7.78</td>\n",
       "      <td>0.0</td>\n",
       "      <td>0.0</td>\n",
       "      <td>1</td>\n",
       "    </tr>\n",
       "    <tr>\n",
       "      <th>3</th>\n",
       "      <td>4</td>\n",
       "      <td>1.51766</td>\n",
       "      <td>13.21</td>\n",
       "      <td>3.69</td>\n",
       "      <td>1.29</td>\n",
       "      <td>72.61</td>\n",
       "      <td>0.57</td>\n",
       "      <td>8.22</td>\n",
       "      <td>0.0</td>\n",
       "      <td>0.0</td>\n",
       "      <td>1</td>\n",
       "    </tr>\n",
       "    <tr>\n",
       "      <th>4</th>\n",
       "      <td>5</td>\n",
       "      <td>1.51742</td>\n",
       "      <td>13.27</td>\n",
       "      <td>3.62</td>\n",
       "      <td>1.24</td>\n",
       "      <td>73.08</td>\n",
       "      <td>0.55</td>\n",
       "      <td>8.07</td>\n",
       "      <td>0.0</td>\n",
       "      <td>0.0</td>\n",
       "      <td>1</td>\n",
       "    </tr>\n",
       "  </tbody>\n",
       "</table>\n",
       "</div>"
      ],
      "text/plain": [
       "   ID Number  Refractive_index  Sodium  Magnesium  Aluminum  Silicon  \\\n",
       "0          1           1.52101   13.64       4.49      1.10    71.78   \n",
       "1          2           1.51761   13.89       3.60      1.36    72.73   \n",
       "2          3           1.51618   13.53       3.55      1.54    72.99   \n",
       "3          4           1.51766   13.21       3.69      1.29    72.61   \n",
       "4          5           1.51742   13.27       3.62      1.24    73.08   \n",
       "\n",
       "   Potassium  Calcium  Barium  Iron  Type_of_glass  \n",
       "0       0.06     8.75     0.0   0.0              1  \n",
       "1       0.48     7.83     0.0   0.0              1  \n",
       "2       0.39     7.78     0.0   0.0              1  \n",
       "3       0.57     8.22     0.0   0.0              1  \n",
       "4       0.55     8.07     0.0   0.0              1  "
      ]
     },
     "execution_count": 7,
     "metadata": {},
     "output_type": "execute_result"
    }
   ],
   "source": [
    "df.head()"
   ]
  },
  {
   "cell_type": "code",
   "execution_count": 8,
   "id": "62dbcadf",
   "metadata": {},
   "outputs": [
    {
     "data": {
      "text/html": [
       "<div>\n",
       "<style scoped>\n",
       "    .dataframe tbody tr th:only-of-type {\n",
       "        vertical-align: middle;\n",
       "    }\n",
       "\n",
       "    .dataframe tbody tr th {\n",
       "        vertical-align: top;\n",
       "    }\n",
       "\n",
       "    .dataframe thead th {\n",
       "        text-align: right;\n",
       "    }\n",
       "</style>\n",
       "<table border=\"1\" class=\"dataframe\">\n",
       "  <thead>\n",
       "    <tr style=\"text-align: right;\">\n",
       "      <th></th>\n",
       "      <th>ID Number</th>\n",
       "      <th>Refractive_index</th>\n",
       "      <th>Sodium</th>\n",
       "      <th>Magnesium</th>\n",
       "      <th>Aluminum</th>\n",
       "      <th>Silicon</th>\n",
       "      <th>Potassium</th>\n",
       "      <th>Calcium</th>\n",
       "      <th>Barium</th>\n",
       "      <th>Iron</th>\n",
       "      <th>Type_of_glass</th>\n",
       "    </tr>\n",
       "  </thead>\n",
       "  <tbody>\n",
       "    <tr>\n",
       "      <th>209</th>\n",
       "      <td>210</td>\n",
       "      <td>1.51623</td>\n",
       "      <td>14.14</td>\n",
       "      <td>0.0</td>\n",
       "      <td>2.88</td>\n",
       "      <td>72.61</td>\n",
       "      <td>0.08</td>\n",
       "      <td>9.18</td>\n",
       "      <td>1.06</td>\n",
       "      <td>0.0</td>\n",
       "      <td>7</td>\n",
       "    </tr>\n",
       "    <tr>\n",
       "      <th>210</th>\n",
       "      <td>211</td>\n",
       "      <td>1.51685</td>\n",
       "      <td>14.92</td>\n",
       "      <td>0.0</td>\n",
       "      <td>1.99</td>\n",
       "      <td>73.06</td>\n",
       "      <td>0.00</td>\n",
       "      <td>8.40</td>\n",
       "      <td>1.59</td>\n",
       "      <td>0.0</td>\n",
       "      <td>7</td>\n",
       "    </tr>\n",
       "    <tr>\n",
       "      <th>211</th>\n",
       "      <td>212</td>\n",
       "      <td>1.52065</td>\n",
       "      <td>14.36</td>\n",
       "      <td>0.0</td>\n",
       "      <td>2.02</td>\n",
       "      <td>73.42</td>\n",
       "      <td>0.00</td>\n",
       "      <td>8.44</td>\n",
       "      <td>1.64</td>\n",
       "      <td>0.0</td>\n",
       "      <td>7</td>\n",
       "    </tr>\n",
       "    <tr>\n",
       "      <th>212</th>\n",
       "      <td>213</td>\n",
       "      <td>1.51651</td>\n",
       "      <td>14.38</td>\n",
       "      <td>0.0</td>\n",
       "      <td>1.94</td>\n",
       "      <td>73.61</td>\n",
       "      <td>0.00</td>\n",
       "      <td>8.48</td>\n",
       "      <td>1.57</td>\n",
       "      <td>0.0</td>\n",
       "      <td>7</td>\n",
       "    </tr>\n",
       "    <tr>\n",
       "      <th>213</th>\n",
       "      <td>214</td>\n",
       "      <td>1.51711</td>\n",
       "      <td>14.23</td>\n",
       "      <td>0.0</td>\n",
       "      <td>2.08</td>\n",
       "      <td>73.36</td>\n",
       "      <td>0.00</td>\n",
       "      <td>8.62</td>\n",
       "      <td>1.67</td>\n",
       "      <td>0.0</td>\n",
       "      <td>7</td>\n",
       "    </tr>\n",
       "  </tbody>\n",
       "</table>\n",
       "</div>"
      ],
      "text/plain": [
       "     ID Number  Refractive_index  Sodium  Magnesium  Aluminum  Silicon  \\\n",
       "209        210           1.51623   14.14        0.0      2.88    72.61   \n",
       "210        211           1.51685   14.92        0.0      1.99    73.06   \n",
       "211        212           1.52065   14.36        0.0      2.02    73.42   \n",
       "212        213           1.51651   14.38        0.0      1.94    73.61   \n",
       "213        214           1.51711   14.23        0.0      2.08    73.36   \n",
       "\n",
       "     Potassium  Calcium  Barium  Iron  Type_of_glass  \n",
       "209       0.08     9.18    1.06   0.0              7  \n",
       "210       0.00     8.40    1.59   0.0              7  \n",
       "211       0.00     8.44    1.64   0.0              7  \n",
       "212       0.00     8.48    1.57   0.0              7  \n",
       "213       0.00     8.62    1.67   0.0              7  "
      ]
     },
     "execution_count": 8,
     "metadata": {},
     "output_type": "execute_result"
    }
   ],
   "source": [
    "df.tail()"
   ]
  },
  {
   "cell_type": "code",
   "execution_count": 9,
   "id": "c7fee433",
   "metadata": {},
   "outputs": [
    {
     "data": {
      "text/plain": [
       "ID Number           0\n",
       "Refractive_index    0\n",
       "Sodium              0\n",
       "Magnesium           0\n",
       "Aluminum            0\n",
       "Silicon             0\n",
       "Potassium           0\n",
       "Calcium             0\n",
       "Barium              0\n",
       "Iron                0\n",
       "Type_of_glass       0\n",
       "dtype: int64"
      ]
     },
     "execution_count": 9,
     "metadata": {},
     "output_type": "execute_result"
    }
   ],
   "source": [
    "df.isnull().sum()"
   ]
  },
  {
   "cell_type": "markdown",
   "id": "da9cc36b",
   "metadata": {},
   "source": [
    "From the above observation , we can see that there are no null values present in the dataset"
   ]
  },
  {
   "cell_type": "code",
   "execution_count": 10,
   "id": "6898e488",
   "metadata": {},
   "outputs": [
    {
     "data": {
      "text/plain": [
       "6"
      ]
     },
     "execution_count": 10,
     "metadata": {},
     "output_type": "execute_result"
    }
   ],
   "source": [
    "df['Type_of_glass'].nunique() # there are 6 varients of type of glass"
   ]
  },
  {
   "cell_type": "markdown",
   "id": "38a3c457",
   "metadata": {},
   "source": [
    "# Statistical summary"
   ]
  },
  {
   "cell_type": "code",
   "execution_count": 11,
   "id": "683cf484",
   "metadata": {},
   "outputs": [
    {
     "data": {
      "text/html": [
       "<div>\n",
       "<style scoped>\n",
       "    .dataframe tbody tr th:only-of-type {\n",
       "        vertical-align: middle;\n",
       "    }\n",
       "\n",
       "    .dataframe tbody tr th {\n",
       "        vertical-align: top;\n",
       "    }\n",
       "\n",
       "    .dataframe thead th {\n",
       "        text-align: right;\n",
       "    }\n",
       "</style>\n",
       "<table border=\"1\" class=\"dataframe\">\n",
       "  <thead>\n",
       "    <tr style=\"text-align: right;\">\n",
       "      <th></th>\n",
       "      <th>ID Number</th>\n",
       "      <th>Refractive_index</th>\n",
       "      <th>Sodium</th>\n",
       "      <th>Magnesium</th>\n",
       "      <th>Aluminum</th>\n",
       "      <th>Silicon</th>\n",
       "      <th>Potassium</th>\n",
       "      <th>Calcium</th>\n",
       "      <th>Barium</th>\n",
       "      <th>Iron</th>\n",
       "      <th>Type_of_glass</th>\n",
       "    </tr>\n",
       "  </thead>\n",
       "  <tbody>\n",
       "    <tr>\n",
       "      <th>count</th>\n",
       "      <td>214.000000</td>\n",
       "      <td>214.000000</td>\n",
       "      <td>214.000000</td>\n",
       "      <td>214.000000</td>\n",
       "      <td>214.000000</td>\n",
       "      <td>214.000000</td>\n",
       "      <td>214.000000</td>\n",
       "      <td>214.000000</td>\n",
       "      <td>214.000000</td>\n",
       "      <td>214.000000</td>\n",
       "      <td>214.000000</td>\n",
       "    </tr>\n",
       "    <tr>\n",
       "      <th>mean</th>\n",
       "      <td>107.500000</td>\n",
       "      <td>1.518365</td>\n",
       "      <td>13.407850</td>\n",
       "      <td>2.684533</td>\n",
       "      <td>1.444907</td>\n",
       "      <td>72.650935</td>\n",
       "      <td>0.497056</td>\n",
       "      <td>8.956963</td>\n",
       "      <td>0.175047</td>\n",
       "      <td>0.057009</td>\n",
       "      <td>2.780374</td>\n",
       "    </tr>\n",
       "    <tr>\n",
       "      <th>std</th>\n",
       "      <td>61.920648</td>\n",
       "      <td>0.003037</td>\n",
       "      <td>0.816604</td>\n",
       "      <td>1.442408</td>\n",
       "      <td>0.499270</td>\n",
       "      <td>0.774546</td>\n",
       "      <td>0.652192</td>\n",
       "      <td>1.423153</td>\n",
       "      <td>0.497219</td>\n",
       "      <td>0.097439</td>\n",
       "      <td>2.103739</td>\n",
       "    </tr>\n",
       "    <tr>\n",
       "      <th>min</th>\n",
       "      <td>1.000000</td>\n",
       "      <td>1.511150</td>\n",
       "      <td>10.730000</td>\n",
       "      <td>0.000000</td>\n",
       "      <td>0.290000</td>\n",
       "      <td>69.810000</td>\n",
       "      <td>0.000000</td>\n",
       "      <td>5.430000</td>\n",
       "      <td>0.000000</td>\n",
       "      <td>0.000000</td>\n",
       "      <td>1.000000</td>\n",
       "    </tr>\n",
       "    <tr>\n",
       "      <th>25%</th>\n",
       "      <td>54.250000</td>\n",
       "      <td>1.516522</td>\n",
       "      <td>12.907500</td>\n",
       "      <td>2.115000</td>\n",
       "      <td>1.190000</td>\n",
       "      <td>72.280000</td>\n",
       "      <td>0.122500</td>\n",
       "      <td>8.240000</td>\n",
       "      <td>0.000000</td>\n",
       "      <td>0.000000</td>\n",
       "      <td>1.000000</td>\n",
       "    </tr>\n",
       "    <tr>\n",
       "      <th>50%</th>\n",
       "      <td>107.500000</td>\n",
       "      <td>1.517680</td>\n",
       "      <td>13.300000</td>\n",
       "      <td>3.480000</td>\n",
       "      <td>1.360000</td>\n",
       "      <td>72.790000</td>\n",
       "      <td>0.555000</td>\n",
       "      <td>8.600000</td>\n",
       "      <td>0.000000</td>\n",
       "      <td>0.000000</td>\n",
       "      <td>2.000000</td>\n",
       "    </tr>\n",
       "    <tr>\n",
       "      <th>75%</th>\n",
       "      <td>160.750000</td>\n",
       "      <td>1.519157</td>\n",
       "      <td>13.825000</td>\n",
       "      <td>3.600000</td>\n",
       "      <td>1.630000</td>\n",
       "      <td>73.087500</td>\n",
       "      <td>0.610000</td>\n",
       "      <td>9.172500</td>\n",
       "      <td>0.000000</td>\n",
       "      <td>0.100000</td>\n",
       "      <td>3.000000</td>\n",
       "    </tr>\n",
       "    <tr>\n",
       "      <th>max</th>\n",
       "      <td>214.000000</td>\n",
       "      <td>1.533930</td>\n",
       "      <td>17.380000</td>\n",
       "      <td>4.490000</td>\n",
       "      <td>3.500000</td>\n",
       "      <td>75.410000</td>\n",
       "      <td>6.210000</td>\n",
       "      <td>16.190000</td>\n",
       "      <td>3.150000</td>\n",
       "      <td>0.510000</td>\n",
       "      <td>7.000000</td>\n",
       "    </tr>\n",
       "  </tbody>\n",
       "</table>\n",
       "</div>"
      ],
      "text/plain": [
       "        ID Number  Refractive_index      Sodium   Magnesium    Aluminum  \\\n",
       "count  214.000000        214.000000  214.000000  214.000000  214.000000   \n",
       "mean   107.500000          1.518365   13.407850    2.684533    1.444907   \n",
       "std     61.920648          0.003037    0.816604    1.442408    0.499270   \n",
       "min      1.000000          1.511150   10.730000    0.000000    0.290000   \n",
       "25%     54.250000          1.516522   12.907500    2.115000    1.190000   \n",
       "50%    107.500000          1.517680   13.300000    3.480000    1.360000   \n",
       "75%    160.750000          1.519157   13.825000    3.600000    1.630000   \n",
       "max    214.000000          1.533930   17.380000    4.490000    3.500000   \n",
       "\n",
       "          Silicon   Potassium     Calcium      Barium        Iron  \\\n",
       "count  214.000000  214.000000  214.000000  214.000000  214.000000   \n",
       "mean    72.650935    0.497056    8.956963    0.175047    0.057009   \n",
       "std      0.774546    0.652192    1.423153    0.497219    0.097439   \n",
       "min     69.810000    0.000000    5.430000    0.000000    0.000000   \n",
       "25%     72.280000    0.122500    8.240000    0.000000    0.000000   \n",
       "50%     72.790000    0.555000    8.600000    0.000000    0.000000   \n",
       "75%     73.087500    0.610000    9.172500    0.000000    0.100000   \n",
       "max     75.410000    6.210000   16.190000    3.150000    0.510000   \n",
       "\n",
       "       Type_of_glass  \n",
       "count     214.000000  \n",
       "mean        2.780374  \n",
       "std         2.103739  \n",
       "min         1.000000  \n",
       "25%         1.000000  \n",
       "50%         2.000000  \n",
       "75%         3.000000  \n",
       "max         7.000000  "
      ]
     },
     "execution_count": 11,
     "metadata": {},
     "output_type": "execute_result"
    }
   ],
   "source": [
    "df.describe()"
   ]
  },
  {
   "cell_type": "markdown",
   "id": "515d3759",
   "metadata": {},
   "source": [
    "From the above observation , in column ID Number the std is 61.9206 , which means that the data are highly spreaded(outliers may be present).\n",
    "In the column (Type_of_glass), mean is very slightly > than median , which means that skewness may be present.\n",
    "In the columns (ID Number),Sodium\t,Potassium,Calcium and Type_of_glass, there is a gap between 75% and max , which means that outliers may be present.\n"
   ]
  },
  {
   "cell_type": "code",
   "execution_count": 12,
   "id": "c1f610dc",
   "metadata": {},
   "outputs": [
    {
     "data": {
      "image/png": "[encoded data removed]",
      "text/plain": [
       "<Figure size 432x288 with 2 Axes>"
      ]
     },
     "metadata": {
      "needs_background": "light"
     },
     "output_type": "display_data"
    }
   ],
   "source": [
    "sns.heatmap(df.isnull())\n",
    "plt.title(\"Null Values\")\n",
    "plt.show()"
   ]
  },
  {
   "cell_type": "markdown",
   "id": "91a470b1",
   "metadata": {},
   "source": [
    "From the above observation , we can see the graphical representation , which shows that there are no null values present"
   ]
  },
  {
   "cell_type": "code",
   "execution_count": 14,
   "id": "7351ff7d",
   "metadata": {},
   "outputs": [
    {
     "data": {
      "image/png": "[encoded data removed]",
      "text/plain": [
       "<Figure size 432x288 with 1 Axes>"
      ]
     },
     "metadata": {
      "needs_background": "light"
     },
     "output_type": "display_data"
    }
   ],
   "source": [
    "#Target variable\n",
    "df['Type_of_glass'].hist(grid=False)\n",
    "plt.title(\"Types of glass quality\")\n",
    "plt.show()"
   ]
  },
  {
   "cell_type": "code",
   "execution_count": 15,
   "id": "c28d56ce",
   "metadata": {},
   "outputs": [
    {
     "data": {
      "text/plain": [
       "<AxesSubplot:xlabel='Type_of_glass', ylabel='count'>"
      ]
     },
     "execution_count": 15,
     "metadata": {},
     "output_type": "execute_result"
    },
    {
     "data": {
      "image/png": "[encoded data removed]",
      "text/plain": [
       "<Figure size 432x288 with 1 Axes>"
      ]
     },
     "metadata": {
      "needs_background": "light"
     },
     "output_type": "display_data"
    }
   ],
   "source": [
    "sns.countplot(x=df['Type_of_glass'],color='green')"
   ]
  },
  {
   "cell_type": "code",
   "execution_count": 16,
   "id": "3e79773f",
   "metadata": {},
   "outputs": [
    {
     "data": {
      "text/plain": [
       "2    76\n",
       "1    70\n",
       "7    29\n",
       "3    17\n",
       "5    13\n",
       "6     9\n",
       "Name: Type_of_glass, dtype: int64"
      ]
     },
     "execution_count": 16,
     "metadata": {},
     "output_type": "execute_result"
    }
   ],
   "source": [
    "df['Type_of_glass'].value_counts()"
   ]
  },
  {
   "cell_type": "markdown",
   "id": "398191eb",
   "metadata": {},
   "source": [
    "From the above observation we can see that for type 1 and type 2 there are highest counts , for type 4 there is none , where as for type 3,5 and 6 has very less counts and fot type 7 has an average count"
   ]
  },
  {
   "cell_type": "markdown",
   "id": "5b14f789",
   "metadata": {},
   "source": [
    "# Data Visualization"
   ]
  },
  {
   "cell_type": "code",
   "execution_count": 17,
   "id": "b9e2cd12",
   "metadata": {},
   "outputs": [
    {
     "data": {
      "text/plain": [
       "ID Number             int64\n",
       "Refractive_index    float64\n",
       "Sodium              float64\n",
       "Magnesium           float64\n",
       "Aluminum            float64\n",
       "Silicon             float64\n",
       "Potassium           float64\n",
       "Calcium             float64\n",
       "Barium              float64\n",
       "Iron                float64\n",
       "Type_of_glass         int64\n",
       "dtype: object"
      ]
     },
     "execution_count": 17,
     "metadata": {},
     "output_type": "execute_result"
    }
   ],
   "source": [
    "df.dtypes"
   ]
  },
  {
   "cell_type": "code",
   "execution_count": 18,
   "id": "2946c5e8",
   "metadata": {},
   "outputs": [
    {
     "data": {
      "text/plain": [
       "<seaborn.axisgrid.FacetGrid at 0x174b2d7cc10>"
      ]
     },
     "execution_count": 18,
     "metadata": {},
     "output_type": "execute_result"
    },
    {
     "data": {
      "image/png": "[encoded data removed]",
      "text/plain": [
       "<Figure size 360x360 with 1 Axes>"
      ]
     },
     "metadata": {
      "needs_background": "light"
     },
     "output_type": "display_data"
    }
   ],
   "source": [
    "sns.displot(df['ID Number'],kde=True)"
   ]
  },
  {
   "cell_type": "code",
   "execution_count": 19,
   "id": "fc48c216",
   "metadata": {},
   "outputs": [
    {
     "data": {
      "text/plain": [
       "<seaborn.axisgrid.FacetGrid at 0x174b2e26250>"
      ]
     },
     "execution_count": 19,
     "metadata": {},
     "output_type": "execute_result"
    },
    {
     "data": {
      "image/png": "[encoded data removed]",
      "text/plain": [
       "<Figure size 360x360 with 1 Axes>"
      ]
     },
     "metadata": {
      "needs_background": "light"
     },
     "output_type": "display_data"
    }
   ],
   "source": [
    "sns.displot(df['Refractive_index'],kde=True)"
   ]
  },
  {
   "cell_type": "code",
   "execution_count": 20,
   "id": "cb9c5285",
   "metadata": {},
   "outputs": [
    {
     "data": {
      "text/plain": [
       "<seaborn.axisgrid.FacetGrid at 0x174b2c7e4c0>"
      ]
     },
     "execution_count": 20,
     "metadata": {},
     "output_type": "execute_result"
    },
    {
     "data": {
      "image/png": "[encoded data removed]",
      "text/plain": [
       "<Figure size 360x360 with 1 Axes>"
      ]
     },
     "metadata": {
      "needs_background": "light"
     },
     "output_type": "display_data"
    }
   ],
   "source": [
    "sns.displot(df['Sodium'],kde=True)"
   ]
  },
  {
   "cell_type": "code",
   "execution_count": 21,
   "id": "5fb6ecac",
   "metadata": {},
   "outputs": [
    {
     "data": {
      "text/plain": [
       "<seaborn.axisgrid.FacetGrid at 0x174b3326640>"
      ]
     },
     "execution_count": 21,
     "metadata": {},
     "output_type": "execute_result"
    },
    {
     "data": {
      "image/png": "[encoded data removed]",
      "text/plain": [
       "<Figure size 360x360 with 1 Axes>"
      ]
     },
     "metadata": {
      "needs_background": "light"
     },
     "output_type": "display_data"
    }
   ],
   "source": [
    "sns.displot(df['Magnesium'],kde=True)"
   ]
  },
  {
   "cell_type": "code",
   "execution_count": 22,
   "id": "f3777f20",
   "metadata": {},
   "outputs": [
    {
     "data": {
      "text/plain": [
       "<seaborn.axisgrid.FacetGrid at 0x174b2d19b50>"
      ]
     },
     "execution_count": 22,
     "metadata": {},
     "output_type": "execute_result"
    },
    {
     "data": {
      "image/png": "[encoded data removed]",
      "text/plain": [
       "<Figure size 360x360 with 1 Axes>"
      ]
     },
     "metadata": {
      "needs_background": "light"
     },
     "output_type": "display_data"
    }
   ],
   "source": [
    "sns.displot(df['Aluminum'],kde=True)"
   ]
  },
  {
   "cell_type": "code",
   "execution_count": 23,
   "id": "2c567d46",
   "metadata": {},
   "outputs": [
    {
     "data": {
      "text/plain": [
       "<seaborn.axisgrid.FacetGrid at 0x174b2cf9610>"
      ]
     },
     "execution_count": 23,
     "metadata": {},
     "output_type": "execute_result"
    },
    {
     "data": {
      "image/png": "[encoded data removed]",
      "text/plain": [
       "<Figure size 360x360 with 1 Axes>"
      ]
     },
     "metadata": {
      "needs_background": "light"
     },
     "output_type": "display_data"
    }
   ],
   "source": [
    "sns.displot(df['Silicon'],kde=True)"
   ]
  },
  {
   "cell_type": "code",
   "execution_count": 24,
   "id": "74f019b4",
   "metadata": {},
   "outputs": [
    {
     "data": {
      "text/plain": [
       "<seaborn.axisgrid.FacetGrid at 0x174b2cbdd60>"
      ]
     },
     "execution_count": 24,
     "metadata": {},
     "output_type": "execute_result"
    },
    {
     "data": {
      "image/png": "[encoded data removed]",
      "text/plain": [
       "<Figure size 360x360 with 1 Axes>"
      ]
     },
     "metadata": {
      "needs_background": "light"
     },
     "output_type": "display_data"
    }
   ],
   "source": [
    "sns.displot(df['Potassium'],kde=True)"
   ]
  },
  {
   "cell_type": "code",
   "execution_count": 25,
   "id": "dd2fed86",
   "metadata": {},
   "outputs": [
    {
     "data": {
      "text/plain": [
       "<seaborn.axisgrid.FacetGrid at 0x174b2b4d910>"
      ]
     },
     "execution_count": 25,
     "metadata": {},
     "output_type": "execute_result"
    },
    {
     "data": {
      "image/png": "[encoded data removed]",
      "text/plain": [
       "<Figure size 360x360 with 1 Axes>"
      ]
     },
     "metadata": {
      "needs_background": "light"
     },
     "output_type": "display_data"
    }
   ],
   "source": [
    "sns.displot(df['Calcium'],kde=True)"
   ]
  },
  {
   "cell_type": "code",
   "execution_count": 26,
   "id": "906e2b7c",
   "metadata": {},
   "outputs": [
    {
     "data": {
      "text/plain": [
       "<seaborn.axisgrid.FacetGrid at 0x174b234b5b0>"
      ]
     },
     "execution_count": 26,
     "metadata": {},
     "output_type": "execute_result"
    },
    {
     "data": {
      "image/png": "[encoded data removed]",
      "text/plain": [
       "<Figure size 360x360 with 1 Axes>"
      ]
     },
     "metadata": {
      "needs_background": "light"
     },
     "output_type": "display_data"
    }
   ],
   "source": [
    "sns.displot(df['Barium'],kde=True)"
   ]
  },
  {
   "cell_type": "code",
   "execution_count": 27,
   "id": "ed95ba43",
   "metadata": {},
   "outputs": [
    {
     "data": {
      "text/plain": [
       "<seaborn.axisgrid.FacetGrid at 0x174b44bc1f0>"
      ]
     },
     "execution_count": 27,
     "metadata": {},
     "output_type": "execute_result"
    },
    {
     "data": {
      "image/png": "[encoded data removed]",
      "text/plain": [
       "<Figure size 360x360 with 1 Axes>"
      ]
     },
     "metadata": {
      "needs_background": "light"
     },
     "output_type": "display_data"
    }
   ],
   "source": [
    "sns.displot(df['Iron'],kde=True)"
   ]
  },
  {
   "cell_type": "code",
   "execution_count": 28,
   "id": "90aa534f",
   "metadata": {},
   "outputs": [
    {
     "data": {
      "text/plain": [
       "<seaborn.axisgrid.FacetGrid at 0x174b44bc220>"
      ]
     },
     "execution_count": 28,
     "metadata": {},
     "output_type": "execute_result"
    },
    {
     "data": {
      "image/png": "[encoded data removed]",
      "text/plain": [
       "<Figure size 360x360 with 1 Axes>"
      ]
     },
     "metadata": {
      "needs_background": "light"
     },
     "output_type": "display_data"
    }
   ],
   "source": [
    "sns.displot(df['Type_of_glass'],kde=True)"
   ]
  },
  {
   "cell_type": "markdown",
   "id": "b85bca8c",
   "metadata": {},
   "source": [
    "From the above observations of the continous value of the float datatype , mostly the data are not normally distributed"
   ]
  },
  {
   "cell_type": "code",
   "execution_count": 29,
   "id": "93006bba",
   "metadata": {},
   "outputs": [
    {
     "data": {
      "text/plain": [
       "<AxesSubplot:xlabel='ID Number', ylabel='Type_of_glass'>"
      ]
     },
     "execution_count": 29,
     "metadata": {},
     "output_type": "execute_result"
    },
    {
     "data": {
      "image/png": "[encoded data removed]",
      "text/plain": [
       "<Figure size 432x288 with 1 Axes>"
      ]
     },
     "metadata": {
      "needs_background": "light"
     },
     "output_type": "display_data"
    }
   ],
   "source": [
    "#Using scatter plot ---- > to find the relationship with the target variable\n",
    "\n",
    "sns.scatterplot(x='ID Number',y='Type_of_glass',data=df)"
   ]
  },
  {
   "cell_type": "markdown",
   "id": "2ea99622",
   "metadata": {},
   "source": [
    "From the above observation we can see that data is ID number is equally distributed in the range 1 to 214"
   ]
  },
  {
   "cell_type": "code",
   "execution_count": 30,
   "id": "1cfbc23d",
   "metadata": {},
   "outputs": [
    {
     "data": {
      "text/plain": [
       "<AxesSubplot:xlabel='Refractive_index', ylabel='Type_of_glass'>"
      ]
     },
     "execution_count": 30,
     "metadata": {},
     "output_type": "execute_result"
    },
    {
     "data": {
      "image/png": "[encoded data removed]",
      "text/plain": [
       "<Figure size 432x288 with 1 Axes>"
      ]
     },
     "metadata": {
      "needs_background": "light"
     },
     "output_type": "display_data"
    }
   ],
   "source": [
    "sns.scatterplot(x='Refractive_index',y='Type_of_glass',data=df)"
   ]
  },
  {
   "cell_type": "markdown",
   "id": "a0d983a6",
   "metadata": {},
   "source": [
    "From the above observation we can see that Refractive_index is equally distributed in the range of 1.515 to 1.520"
   ]
  },
  {
   "cell_type": "code",
   "execution_count": 31,
   "id": "8ae6939f",
   "metadata": {},
   "outputs": [
    {
     "data": {
      "text/plain": [
       "<AxesSubplot:xlabel='Sodium', ylabel='Type_of_glass'>"
      ]
     },
     "execution_count": 31,
     "metadata": {},
     "output_type": "execute_result"
    },
    {
     "data": {
      "image/png": "[encoded data removed]",
      "text/plain": [
       "<Figure size 432x288 with 1 Axes>"
      ]
     },
     "metadata": {
      "needs_background": "light"
     },
     "output_type": "display_data"
    }
   ],
   "source": [
    "sns.scatterplot(x='Sodium',y='Type_of_glass',data=df)"
   ]
  },
  {
   "cell_type": "markdown",
   "id": "a533ab63",
   "metadata": {},
   "source": [
    "From the above observation we can see that Sodiun is equally distributed in the range of 12.3 to 14.5"
   ]
  },
  {
   "cell_type": "code",
   "execution_count": 33,
   "id": "25524b26",
   "metadata": {},
   "outputs": [
    {
     "data": {
      "text/plain": [
       "<AxesSubplot:xlabel='Magnesium', ylabel='Type_of_glass'>"
      ]
     },
     "execution_count": 33,
     "metadata": {},
     "output_type": "execute_result"
    },
    {
     "data": {
      "image/png": "[encoded data removed]",
      "text/plain": [
       "<Figure size 432x288 with 1 Axes>"
      ]
     },
     "metadata": {
      "needs_background": "light"
     },
     "output_type": "display_data"
    }
   ],
   "source": [
    "sns.scatterplot(x='Magnesium',y='Type_of_glass',data=df)"
   ]
  },
  {
   "cell_type": "markdown",
   "id": "793984c0",
   "metadata": {},
   "source": [
    "From the above observation we can see that Magnesium is equally distributed in the range 2.8 to 4.0"
   ]
  },
  {
   "cell_type": "code",
   "execution_count": 34,
   "id": "5076238e",
   "metadata": {},
   "outputs": [
    {
     "data": {
      "text/plain": [
       "<AxesSubplot:xlabel='Aluminum', ylabel='Type_of_glass'>"
      ]
     },
     "execution_count": 34,
     "metadata": {},
     "output_type": "execute_result"
    },
    {
     "data": {
      "image/png": "[encoded data removed]",
      "text/plain": [
       "<Figure size 432x288 with 1 Axes>"
      ]
     },
     "metadata": {
      "needs_background": "light"
     },
     "output_type": "display_data"
    }
   ],
   "source": [
    "sns.scatterplot(x='Aluminum',y='Type_of_glass',data=df)"
   ]
  },
  {
   "cell_type": "markdown",
   "id": "0893cd15",
   "metadata": {},
   "source": [
    "From the above observation we can see that Aluminum is equally distributed in the range of 0.7 to 1.9 "
   ]
  },
  {
   "cell_type": "code",
   "execution_count": 35,
   "id": "d548e342",
   "metadata": {},
   "outputs": [
    {
     "data": {
      "text/plain": [
       "<AxesSubplot:xlabel='Silicon', ylabel='Type_of_glass'>"
      ]
     },
     "execution_count": 35,
     "metadata": {},
     "output_type": "execute_result"
    },
    {
     "data": {
      "image/png": "[encoded data removed]",
      "text/plain": [
       "<Figure size 432x288 with 1 Axes>"
      ]
     },
     "metadata": {
      "needs_background": "light"
     },
     "output_type": "display_data"
    }
   ],
   "source": [
    "sns.scatterplot(x='Silicon',y='Type_of_glass',data=df)"
   ]
  },
  {
   "cell_type": "markdown",
   "id": "6915b012",
   "metadata": {},
   "source": [
    "From the above observation its seen that Silicon is equally distributed in the range 71.8 to 73.5"
   ]
  },
  {
   "cell_type": "code",
   "execution_count": 36,
   "id": "f2c5ee75",
   "metadata": {},
   "outputs": [
    {
     "data": {
      "text/plain": [
       "<AxesSubplot:xlabel='Potassium', ylabel='Type_of_glass'>"
      ]
     },
     "execution_count": 36,
     "metadata": {},
     "output_type": "execute_result"
    },
    {
     "data": {
      "image/png": "[encoded data removed]",
      "text/plain": [
       "<Figure size 432x288 with 1 Axes>"
      ]
     },
     "metadata": {
      "needs_background": "light"
     },
     "output_type": "display_data"
    }
   ],
   "source": [
    "sns.scatterplot(x='Potassium',y='Type_of_glass',data=df)"
   ]
  },
  {
   "cell_type": "markdown",
   "id": "3ffa6c23",
   "metadata": {},
   "source": [
    "From the above observation its seen that Potassium is equally distributed in the range 0 to 0.89"
   ]
  },
  {
   "cell_type": "code",
   "execution_count": 37,
   "id": "5bf08406",
   "metadata": {},
   "outputs": [
    {
     "data": {
      "text/plain": [
       "<AxesSubplot:xlabel='Calcium', ylabel='Type_of_glass'>"
      ]
     },
     "execution_count": 37,
     "metadata": {},
     "output_type": "execute_result"
    },
    {
     "data": {
      "image/png": "[encoded data removed]",
      "text/plain": [
       "<Figure size 432x288 with 1 Axes>"
      ]
     },
     "metadata": {
      "needs_background": "light"
     },
     "output_type": "display_data"
    }
   ],
   "source": [
    "sns.scatterplot(x='Calcium',y='Type_of_glass',data=df)"
   ]
  },
  {
   "cell_type": "markdown",
   "id": "78c0eaf7",
   "metadata": {},
   "source": [
    "Form the above observation its seen that Calcium is equally distributed in the range 7.8 to 11.8"
   ]
  },
  {
   "cell_type": "code",
   "execution_count": 38,
   "id": "58185a7c",
   "metadata": {},
   "outputs": [
    {
     "data": {
      "text/plain": [
       "<AxesSubplot:xlabel='Barium', ylabel='Type_of_glass'>"
      ]
     },
     "execution_count": 38,
     "metadata": {},
     "output_type": "execute_result"
    },
    {
     "data": {
      "image/png": "[encoded data removed]",
      "text/plain": [
       "<Figure size 432x288 with 1 Axes>"
      ]
     },
     "metadata": {
      "needs_background": "light"
     },
     "output_type": "display_data"
    }
   ],
   "source": [
    "sns.scatterplot(x='Barium',y='Type_of_glass',data=df)"
   ]
  },
  {
   "cell_type": "markdown",
   "id": "1b3bb900",
   "metadata": {},
   "source": [
    "From the above observation its seen that Barium is equally distributed in range 0.5 to 1.0"
   ]
  },
  {
   "cell_type": "code",
   "execution_count": 39,
   "id": "c31b749c",
   "metadata": {},
   "outputs": [
    {
     "data": {
      "text/plain": [
       "<AxesSubplot:xlabel='Iron', ylabel='Type_of_glass'>"
      ]
     },
     "execution_count": 39,
     "metadata": {},
     "output_type": "execute_result"
    },
    {
     "data": {
      "image/png": "[encoded data removed]",
      "text/plain": [
       "<Figure size 432x288 with 1 Axes>"
      ]
     },
     "metadata": {
      "needs_background": "light"
     },
     "output_type": "display_data"
    }
   ],
   "source": [
    "sns.scatterplot(x='Iron',y='Type_of_glass',data=df)"
   ]
  },
  {
   "cell_type": "markdown",
   "id": "e7b93305",
   "metadata": {},
   "source": [
    "From the above observation its seen that Iron is equally distributed in the range 0.05 to 0.32"
   ]
  },
  {
   "cell_type": "markdown",
   "id": "e6c55de3",
   "metadata": {},
   "source": [
    "# Data Preparation ---> transform of target variable Type_of_glass"
   ]
  },
  {
   "cell_type": "markdown",
   "id": "8459655c",
   "metadata": {},
   "source": [
    "There are 214 observations in the dataset. \n",
    "The dataset can be divided into window glass (classes 1-4) and non-window glass (classes 5-7). "
   ]
  },
  {
   "cell_type": "code",
   "execution_count": 40,
   "id": "86f1bd8d",
   "metadata": {},
   "outputs": [],
   "source": [
    "#function to assign new quality targets\n",
    "\n",
    "def new_glass_type(rating):\n",
    "    '''This function will change the target Type of glass to 0(window glass) or 1(non-window glass)\n",
    "       The number of target labels will be reduced to 3 instead of 6'''\n",
    "    if (rating <=4):\n",
    "        return 0\n",
    "    else:\n",
    "        return 1"
   ]
  },
  {
   "cell_type": "code",
   "execution_count": 41,
   "id": "0149c35a",
   "metadata": {},
   "outputs": [],
   "source": [
    "#create a new target variable -Type_of_glass_new\n",
    "df['Type_of_glass_new'] = df['Type_of_glass'].apply(new_glass_type)"
   ]
  },
  {
   "cell_type": "code",
   "execution_count": 42,
   "id": "271da214",
   "metadata": {},
   "outputs": [
    {
     "data": {
      "text/html": [
       "<div>\n",
       "<style scoped>\n",
       "    .dataframe tbody tr th:only-of-type {\n",
       "        vertical-align: middle;\n",
       "    }\n",
       "\n",
       "    .dataframe tbody tr th {\n",
       "        vertical-align: top;\n",
       "    }\n",
       "\n",
       "    .dataframe thead th {\n",
       "        text-align: right;\n",
       "    }\n",
       "</style>\n",
       "<table border=\"1\" class=\"dataframe\">\n",
       "  <thead>\n",
       "    <tr style=\"text-align: right;\">\n",
       "      <th></th>\n",
       "      <th>ID Number</th>\n",
       "      <th>Refractive_index</th>\n",
       "      <th>Sodium</th>\n",
       "      <th>Magnesium</th>\n",
       "      <th>Aluminum</th>\n",
       "      <th>Silicon</th>\n",
       "      <th>Potassium</th>\n",
       "      <th>Calcium</th>\n",
       "      <th>Barium</th>\n",
       "      <th>Iron</th>\n",
       "      <th>Type_of_glass</th>\n",
       "      <th>Type_of_glass_new</th>\n",
       "    </tr>\n",
       "  </thead>\n",
       "  <tbody>\n",
       "    <tr>\n",
       "      <th>0</th>\n",
       "      <td>1</td>\n",
       "      <td>1.52101</td>\n",
       "      <td>13.64</td>\n",
       "      <td>4.49</td>\n",
       "      <td>1.10</td>\n",
       "      <td>71.78</td>\n",
       "      <td>0.06</td>\n",
       "      <td>8.75</td>\n",
       "      <td>0.0</td>\n",
       "      <td>0.0</td>\n",
       "      <td>1</td>\n",
       "      <td>0</td>\n",
       "    </tr>\n",
       "    <tr>\n",
       "      <th>1</th>\n",
       "      <td>2</td>\n",
       "      <td>1.51761</td>\n",
       "      <td>13.89</td>\n",
       "      <td>3.60</td>\n",
       "      <td>1.36</td>\n",
       "      <td>72.73</td>\n",
       "      <td>0.48</td>\n",
       "      <td>7.83</td>\n",
       "      <td>0.0</td>\n",
       "      <td>0.0</td>\n",
       "      <td>1</td>\n",
       "      <td>0</td>\n",
       "    </tr>\n",
       "    <tr>\n",
       "      <th>2</th>\n",
       "      <td>3</td>\n",
       "      <td>1.51618</td>\n",
       "      <td>13.53</td>\n",
       "      <td>3.55</td>\n",
       "      <td>1.54</td>\n",
       "      <td>72.99</td>\n",
       "      <td>0.39</td>\n",
       "      <td>7.78</td>\n",
       "      <td>0.0</td>\n",
       "      <td>0.0</td>\n",
       "      <td>1</td>\n",
       "      <td>0</td>\n",
       "    </tr>\n",
       "    <tr>\n",
       "      <th>3</th>\n",
       "      <td>4</td>\n",
       "      <td>1.51766</td>\n",
       "      <td>13.21</td>\n",
       "      <td>3.69</td>\n",
       "      <td>1.29</td>\n",
       "      <td>72.61</td>\n",
       "      <td>0.57</td>\n",
       "      <td>8.22</td>\n",
       "      <td>0.0</td>\n",
       "      <td>0.0</td>\n",
       "      <td>1</td>\n",
       "      <td>0</td>\n",
       "    </tr>\n",
       "    <tr>\n",
       "      <th>4</th>\n",
       "      <td>5</td>\n",
       "      <td>1.51742</td>\n",
       "      <td>13.27</td>\n",
       "      <td>3.62</td>\n",
       "      <td>1.24</td>\n",
       "      <td>73.08</td>\n",
       "      <td>0.55</td>\n",
       "      <td>8.07</td>\n",
       "      <td>0.0</td>\n",
       "      <td>0.0</td>\n",
       "      <td>1</td>\n",
       "      <td>0</td>\n",
       "    </tr>\n",
       "  </tbody>\n",
       "</table>\n",
       "</div>"
      ],
      "text/plain": [
       "   ID Number  Refractive_index  Sodium  Magnesium  Aluminum  Silicon  \\\n",
       "0          1           1.52101   13.64       4.49      1.10    71.78   \n",
       "1          2           1.51761   13.89       3.60      1.36    72.73   \n",
       "2          3           1.51618   13.53       3.55      1.54    72.99   \n",
       "3          4           1.51766   13.21       3.69      1.29    72.61   \n",
       "4          5           1.51742   13.27       3.62      1.24    73.08   \n",
       "\n",
       "   Potassium  Calcium  Barium  Iron  Type_of_glass  Type_of_glass_new  \n",
       "0       0.06     8.75     0.0   0.0              1                  0  \n",
       "1       0.48     7.83     0.0   0.0              1                  0  \n",
       "2       0.39     7.78     0.0   0.0              1                  0  \n",
       "3       0.57     8.22     0.0   0.0              1                  0  \n",
       "4       0.55     8.07     0.0   0.0              1                  0  "
      ]
     },
     "execution_count": 42,
     "metadata": {},
     "output_type": "execute_result"
    }
   ],
   "source": [
    "#check with the head() , the new column has been created\n",
    "df.head()"
   ]
  },
  {
   "cell_type": "code",
   "execution_count": 43,
   "id": "0237f183",
   "metadata": {},
   "outputs": [
    {
     "data": {
      "text/html": [
       "<div>\n",
       "<style scoped>\n",
       "    .dataframe tbody tr th:only-of-type {\n",
       "        vertical-align: middle;\n",
       "    }\n",
       "\n",
       "    .dataframe tbody tr th {\n",
       "        vertical-align: top;\n",
       "    }\n",
       "\n",
       "    .dataframe thead th {\n",
       "        text-align: right;\n",
       "    }\n",
       "</style>\n",
       "<table border=\"1\" class=\"dataframe\">\n",
       "  <thead>\n",
       "    <tr style=\"text-align: right;\">\n",
       "      <th></th>\n",
       "      <th>ID Number</th>\n",
       "      <th>Refractive_index</th>\n",
       "      <th>Sodium</th>\n",
       "      <th>Magnesium</th>\n",
       "      <th>Aluminum</th>\n",
       "      <th>Silicon</th>\n",
       "      <th>Potassium</th>\n",
       "      <th>Calcium</th>\n",
       "      <th>Barium</th>\n",
       "      <th>Iron</th>\n",
       "      <th>Type_of_glass</th>\n",
       "      <th>Type_of_glass_new</th>\n",
       "    </tr>\n",
       "  </thead>\n",
       "  <tbody>\n",
       "    <tr>\n",
       "      <th>141</th>\n",
       "      <td>142</td>\n",
       "      <td>1.51851</td>\n",
       "      <td>13.20</td>\n",
       "      <td>3.63</td>\n",
       "      <td>1.07</td>\n",
       "      <td>72.83</td>\n",
       "      <td>0.57</td>\n",
       "      <td>8.41</td>\n",
       "      <td>0.09</td>\n",
       "      <td>0.17</td>\n",
       "      <td>2</td>\n",
       "      <td>0</td>\n",
       "    </tr>\n",
       "    <tr>\n",
       "      <th>212</th>\n",
       "      <td>213</td>\n",
       "      <td>1.51651</td>\n",
       "      <td>14.38</td>\n",
       "      <td>0.00</td>\n",
       "      <td>1.94</td>\n",
       "      <td>73.61</td>\n",
       "      <td>0.00</td>\n",
       "      <td>8.48</td>\n",
       "      <td>1.57</td>\n",
       "      <td>0.00</td>\n",
       "      <td>7</td>\n",
       "      <td>1</td>\n",
       "    </tr>\n",
       "    <tr>\n",
       "      <th>124</th>\n",
       "      <td>125</td>\n",
       "      <td>1.52177</td>\n",
       "      <td>13.20</td>\n",
       "      <td>3.68</td>\n",
       "      <td>1.15</td>\n",
       "      <td>72.75</td>\n",
       "      <td>0.54</td>\n",
       "      <td>8.52</td>\n",
       "      <td>0.00</td>\n",
       "      <td>0.00</td>\n",
       "      <td>2</td>\n",
       "      <td>0</td>\n",
       "    </tr>\n",
       "    <tr>\n",
       "      <th>27</th>\n",
       "      <td>28</td>\n",
       "      <td>1.51721</td>\n",
       "      <td>12.87</td>\n",
       "      <td>3.48</td>\n",
       "      <td>1.33</td>\n",
       "      <td>73.04</td>\n",
       "      <td>0.56</td>\n",
       "      <td>8.43</td>\n",
       "      <td>0.00</td>\n",
       "      <td>0.00</td>\n",
       "      <td>1</td>\n",
       "      <td>0</td>\n",
       "    </tr>\n",
       "    <tr>\n",
       "      <th>198</th>\n",
       "      <td>199</td>\n",
       "      <td>1.51531</td>\n",
       "      <td>14.38</td>\n",
       "      <td>0.00</td>\n",
       "      <td>2.66</td>\n",
       "      <td>73.10</td>\n",
       "      <td>0.04</td>\n",
       "      <td>9.08</td>\n",
       "      <td>0.64</td>\n",
       "      <td>0.00</td>\n",
       "      <td>7</td>\n",
       "      <td>1</td>\n",
       "    </tr>\n",
       "    <tr>\n",
       "      <th>93</th>\n",
       "      <td>94</td>\n",
       "      <td>1.51590</td>\n",
       "      <td>13.24</td>\n",
       "      <td>3.34</td>\n",
       "      <td>1.47</td>\n",
       "      <td>73.10</td>\n",
       "      <td>0.39</td>\n",
       "      <td>8.22</td>\n",
       "      <td>0.00</td>\n",
       "      <td>0.00</td>\n",
       "      <td>2</td>\n",
       "      <td>0</td>\n",
       "    </tr>\n",
       "    <tr>\n",
       "      <th>113</th>\n",
       "      <td>114</td>\n",
       "      <td>1.51892</td>\n",
       "      <td>13.46</td>\n",
       "      <td>3.83</td>\n",
       "      <td>1.26</td>\n",
       "      <td>72.55</td>\n",
       "      <td>0.57</td>\n",
       "      <td>8.21</td>\n",
       "      <td>0.00</td>\n",
       "      <td>0.14</td>\n",
       "      <td>2</td>\n",
       "      <td>0</td>\n",
       "    </tr>\n",
       "    <tr>\n",
       "      <th>56</th>\n",
       "      <td>57</td>\n",
       "      <td>1.51215</td>\n",
       "      <td>12.99</td>\n",
       "      <td>3.47</td>\n",
       "      <td>1.12</td>\n",
       "      <td>72.98</td>\n",
       "      <td>0.62</td>\n",
       "      <td>8.35</td>\n",
       "      <td>0.00</td>\n",
       "      <td>0.31</td>\n",
       "      <td>1</td>\n",
       "      <td>0</td>\n",
       "    </tr>\n",
       "    <tr>\n",
       "      <th>84</th>\n",
       "      <td>85</td>\n",
       "      <td>1.51409</td>\n",
       "      <td>14.25</td>\n",
       "      <td>3.09</td>\n",
       "      <td>2.08</td>\n",
       "      <td>72.28</td>\n",
       "      <td>1.10</td>\n",
       "      <td>7.08</td>\n",
       "      <td>0.00</td>\n",
       "      <td>0.00</td>\n",
       "      <td>2</td>\n",
       "      <td>0</td>\n",
       "    </tr>\n",
       "    <tr>\n",
       "      <th>60</th>\n",
       "      <td>61</td>\n",
       "      <td>1.51905</td>\n",
       "      <td>13.60</td>\n",
       "      <td>3.62</td>\n",
       "      <td>1.11</td>\n",
       "      <td>72.64</td>\n",
       "      <td>0.14</td>\n",
       "      <td>8.76</td>\n",
       "      <td>0.00</td>\n",
       "      <td>0.00</td>\n",
       "      <td>1</td>\n",
       "      <td>0</td>\n",
       "    </tr>\n",
       "    <tr>\n",
       "      <th>8</th>\n",
       "      <td>9</td>\n",
       "      <td>1.51918</td>\n",
       "      <td>14.04</td>\n",
       "      <td>3.58</td>\n",
       "      <td>1.37</td>\n",
       "      <td>72.08</td>\n",
       "      <td>0.56</td>\n",
       "      <td>8.30</td>\n",
       "      <td>0.00</td>\n",
       "      <td>0.00</td>\n",
       "      <td>1</td>\n",
       "      <td>0</td>\n",
       "    </tr>\n",
       "    <tr>\n",
       "      <th>202</th>\n",
       "      <td>203</td>\n",
       "      <td>1.51514</td>\n",
       "      <td>14.85</td>\n",
       "      <td>0.00</td>\n",
       "      <td>2.42</td>\n",
       "      <td>73.72</td>\n",
       "      <td>0.00</td>\n",
       "      <td>8.39</td>\n",
       "      <td>0.56</td>\n",
       "      <td>0.00</td>\n",
       "      <td>7</td>\n",
       "      <td>1</td>\n",
       "    </tr>\n",
       "    <tr>\n",
       "      <th>96</th>\n",
       "      <td>97</td>\n",
       "      <td>1.51841</td>\n",
       "      <td>13.02</td>\n",
       "      <td>3.62</td>\n",
       "      <td>1.06</td>\n",
       "      <td>72.34</td>\n",
       "      <td>0.64</td>\n",
       "      <td>9.13</td>\n",
       "      <td>0.00</td>\n",
       "      <td>0.15</td>\n",
       "      <td>2</td>\n",
       "      <td>0</td>\n",
       "    </tr>\n",
       "    <tr>\n",
       "      <th>37</th>\n",
       "      <td>38</td>\n",
       "      <td>1.51797</td>\n",
       "      <td>12.74</td>\n",
       "      <td>3.48</td>\n",
       "      <td>1.35</td>\n",
       "      <td>72.96</td>\n",
       "      <td>0.64</td>\n",
       "      <td>8.68</td>\n",
       "      <td>0.00</td>\n",
       "      <td>0.00</td>\n",
       "      <td>1</td>\n",
       "      <td>0</td>\n",
       "    </tr>\n",
       "    <tr>\n",
       "      <th>119</th>\n",
       "      <td>120</td>\n",
       "      <td>1.51652</td>\n",
       "      <td>13.56</td>\n",
       "      <td>3.57</td>\n",
       "      <td>1.47</td>\n",
       "      <td>72.45</td>\n",
       "      <td>0.64</td>\n",
       "      <td>7.96</td>\n",
       "      <td>0.00</td>\n",
       "      <td>0.00</td>\n",
       "      <td>2</td>\n",
       "      <td>0</td>\n",
       "    </tr>\n",
       "    <tr>\n",
       "      <th>71</th>\n",
       "      <td>72</td>\n",
       "      <td>1.51848</td>\n",
       "      <td>13.64</td>\n",
       "      <td>3.87</td>\n",
       "      <td>1.27</td>\n",
       "      <td>71.96</td>\n",
       "      <td>0.54</td>\n",
       "      <td>8.32</td>\n",
       "      <td>0.00</td>\n",
       "      <td>0.32</td>\n",
       "      <td>2</td>\n",
       "      <td>0</td>\n",
       "    </tr>\n",
       "    <tr>\n",
       "      <th>154</th>\n",
       "      <td>155</td>\n",
       "      <td>1.51694</td>\n",
       "      <td>12.86</td>\n",
       "      <td>3.58</td>\n",
       "      <td>1.31</td>\n",
       "      <td>72.61</td>\n",
       "      <td>0.61</td>\n",
       "      <td>8.79</td>\n",
       "      <td>0.00</td>\n",
       "      <td>0.00</td>\n",
       "      <td>3</td>\n",
       "      <td>0</td>\n",
       "    </tr>\n",
       "    <tr>\n",
       "      <th>136</th>\n",
       "      <td>137</td>\n",
       "      <td>1.51806</td>\n",
       "      <td>13.00</td>\n",
       "      <td>3.80</td>\n",
       "      <td>1.08</td>\n",
       "      <td>73.07</td>\n",
       "      <td>0.56</td>\n",
       "      <td>8.38</td>\n",
       "      <td>0.00</td>\n",
       "      <td>0.12</td>\n",
       "      <td>2</td>\n",
       "      <td>0</td>\n",
       "    </tr>\n",
       "    <tr>\n",
       "      <th>1</th>\n",
       "      <td>2</td>\n",
       "      <td>1.51761</td>\n",
       "      <td>13.89</td>\n",
       "      <td>3.60</td>\n",
       "      <td>1.36</td>\n",
       "      <td>72.73</td>\n",
       "      <td>0.48</td>\n",
       "      <td>7.83</td>\n",
       "      <td>0.00</td>\n",
       "      <td>0.00</td>\n",
       "      <td>1</td>\n",
       "      <td>0</td>\n",
       "    </tr>\n",
       "    <tr>\n",
       "      <th>22</th>\n",
       "      <td>23</td>\n",
       "      <td>1.51736</td>\n",
       "      <td>12.78</td>\n",
       "      <td>3.62</td>\n",
       "      <td>1.29</td>\n",
       "      <td>72.79</td>\n",
       "      <td>0.59</td>\n",
       "      <td>8.70</td>\n",
       "      <td>0.00</td>\n",
       "      <td>0.00</td>\n",
       "      <td>1</td>\n",
       "      <td>0</td>\n",
       "    </tr>\n",
       "  </tbody>\n",
       "</table>\n",
       "</div>"
      ],
      "text/plain": [
       "     ID Number  Refractive_index  Sodium  Magnesium  Aluminum  Silicon  \\\n",
       "141        142           1.51851   13.20       3.63      1.07    72.83   \n",
       "212        213           1.51651   14.38       0.00      1.94    73.61   \n",
       "124        125           1.52177   13.20       3.68      1.15    72.75   \n",
       "27          28           1.51721   12.87       3.48      1.33    73.04   \n",
       "198        199           1.51531   14.38       0.00      2.66    73.10   \n",
       "93          94           1.51590   13.24       3.34      1.47    73.10   \n",
       "113        114           1.51892   13.46       3.83      1.26    72.55   \n",
       "56          57           1.51215   12.99       3.47      1.12    72.98   \n",
       "84          85           1.51409   14.25       3.09      2.08    72.28   \n",
       "60          61           1.51905   13.60       3.62      1.11    72.64   \n",
       "8            9           1.51918   14.04       3.58      1.37    72.08   \n",
       "202        203           1.51514   14.85       0.00      2.42    73.72   \n",
       "96          97           1.51841   13.02       3.62      1.06    72.34   \n",
       "37          38           1.51797   12.74       3.48      1.35    72.96   \n",
       "119        120           1.51652   13.56       3.57      1.47    72.45   \n",
       "71          72           1.51848   13.64       3.87      1.27    71.96   \n",
       "154        155           1.51694   12.86       3.58      1.31    72.61   \n",
       "136        137           1.51806   13.00       3.80      1.08    73.07   \n",
       "1            2           1.51761   13.89       3.60      1.36    72.73   \n",
       "22          23           1.51736   12.78       3.62      1.29    72.79   \n",
       "\n",
       "     Potassium  Calcium  Barium  Iron  Type_of_glass  Type_of_glass_new  \n",
       "141       0.57     8.41    0.09  0.17              2                  0  \n",
       "212       0.00     8.48    1.57  0.00              7                  1  \n",
       "124       0.54     8.52    0.00  0.00              2                  0  \n",
       "27        0.56     8.43    0.00  0.00              1                  0  \n",
       "198       0.04     9.08    0.64  0.00              7                  1  \n",
       "93        0.39     8.22    0.00  0.00              2                  0  \n",
       "113       0.57     8.21    0.00  0.14              2                  0  \n",
       "56        0.62     8.35    0.00  0.31              1                  0  \n",
       "84        1.10     7.08    0.00  0.00              2                  0  \n",
       "60        0.14     8.76    0.00  0.00              1                  0  \n",
       "8         0.56     8.30    0.00  0.00              1                  0  \n",
       "202       0.00     8.39    0.56  0.00              7                  1  \n",
       "96        0.64     9.13    0.00  0.15              2                  0  \n",
       "37        0.64     8.68    0.00  0.00              1                  0  \n",
       "119       0.64     7.96    0.00  0.00              2                  0  \n",
       "71        0.54     8.32    0.00  0.32              2                  0  \n",
       "154       0.61     8.79    0.00  0.00              3                  0  \n",
       "136       0.56     8.38    0.00  0.12              2                  0  \n",
       "1         0.48     7.83    0.00  0.00              1                  0  \n",
       "22        0.59     8.70    0.00  0.00              1                  0  "
      ]
     },
     "execution_count": 43,
     "metadata": {},
     "output_type": "execute_result"
    }
   ],
   "source": [
    "df.sample(20)"
   ]
  },
  {
   "cell_type": "code",
   "execution_count": 44,
   "id": "a2644245",
   "metadata": {},
   "outputs": [],
   "source": [
    "#Create a copy of the dataset\n",
    "df_new=df.copy()"
   ]
  },
  {
   "cell_type": "code",
   "execution_count": 45,
   "id": "c21865b0",
   "metadata": {},
   "outputs": [],
   "source": [
    "#drop the redundant target label i,e Type_of_glass from the dataset\n",
    "df_new.drop('Type_of_glass',axis=1,inplace =True) "
   ]
  },
  {
   "cell_type": "code",
   "execution_count": 46,
   "id": "091d95e5",
   "metadata": {},
   "outputs": [
    {
     "data": {
      "text/html": [
       "<div>\n",
       "<style scoped>\n",
       "    .dataframe tbody tr th:only-of-type {\n",
       "        vertical-align: middle;\n",
       "    }\n",
       "\n",
       "    .dataframe tbody tr th {\n",
       "        vertical-align: top;\n",
       "    }\n",
       "\n",
       "    .dataframe thead th {\n",
       "        text-align: right;\n",
       "    }\n",
       "</style>\n",
       "<table border=\"1\" class=\"dataframe\">\n",
       "  <thead>\n",
       "    <tr style=\"text-align: right;\">\n",
       "      <th></th>\n",
       "      <th>ID Number</th>\n",
       "      <th>Refractive_index</th>\n",
       "      <th>Sodium</th>\n",
       "      <th>Magnesium</th>\n",
       "      <th>Aluminum</th>\n",
       "      <th>Silicon</th>\n",
       "      <th>Potassium</th>\n",
       "      <th>Calcium</th>\n",
       "      <th>Barium</th>\n",
       "      <th>Iron</th>\n",
       "      <th>Type_of_glass_new</th>\n",
       "    </tr>\n",
       "  </thead>\n",
       "  <tbody>\n",
       "    <tr>\n",
       "      <th>0</th>\n",
       "      <td>1</td>\n",
       "      <td>1.52101</td>\n",
       "      <td>13.64</td>\n",
       "      <td>4.49</td>\n",
       "      <td>1.10</td>\n",
       "      <td>71.78</td>\n",
       "      <td>0.06</td>\n",
       "      <td>8.75</td>\n",
       "      <td>0.00</td>\n",
       "      <td>0.0</td>\n",
       "      <td>0</td>\n",
       "    </tr>\n",
       "    <tr>\n",
       "      <th>1</th>\n",
       "      <td>2</td>\n",
       "      <td>1.51761</td>\n",
       "      <td>13.89</td>\n",
       "      <td>3.60</td>\n",
       "      <td>1.36</td>\n",
       "      <td>72.73</td>\n",
       "      <td>0.48</td>\n",
       "      <td>7.83</td>\n",
       "      <td>0.00</td>\n",
       "      <td>0.0</td>\n",
       "      <td>0</td>\n",
       "    </tr>\n",
       "    <tr>\n",
       "      <th>2</th>\n",
       "      <td>3</td>\n",
       "      <td>1.51618</td>\n",
       "      <td>13.53</td>\n",
       "      <td>3.55</td>\n",
       "      <td>1.54</td>\n",
       "      <td>72.99</td>\n",
       "      <td>0.39</td>\n",
       "      <td>7.78</td>\n",
       "      <td>0.00</td>\n",
       "      <td>0.0</td>\n",
       "      <td>0</td>\n",
       "    </tr>\n",
       "    <tr>\n",
       "      <th>3</th>\n",
       "      <td>4</td>\n",
       "      <td>1.51766</td>\n",
       "      <td>13.21</td>\n",
       "      <td>3.69</td>\n",
       "      <td>1.29</td>\n",
       "      <td>72.61</td>\n",
       "      <td>0.57</td>\n",
       "      <td>8.22</td>\n",
       "      <td>0.00</td>\n",
       "      <td>0.0</td>\n",
       "      <td>0</td>\n",
       "    </tr>\n",
       "    <tr>\n",
       "      <th>4</th>\n",
       "      <td>5</td>\n",
       "      <td>1.51742</td>\n",
       "      <td>13.27</td>\n",
       "      <td>3.62</td>\n",
       "      <td>1.24</td>\n",
       "      <td>73.08</td>\n",
       "      <td>0.55</td>\n",
       "      <td>8.07</td>\n",
       "      <td>0.00</td>\n",
       "      <td>0.0</td>\n",
       "      <td>0</td>\n",
       "    </tr>\n",
       "    <tr>\n",
       "      <th>...</th>\n",
       "      <td>...</td>\n",
       "      <td>...</td>\n",
       "      <td>...</td>\n",
       "      <td>...</td>\n",
       "      <td>...</td>\n",
       "      <td>...</td>\n",
       "      <td>...</td>\n",
       "      <td>...</td>\n",
       "      <td>...</td>\n",
       "      <td>...</td>\n",
       "      <td>...</td>\n",
       "    </tr>\n",
       "    <tr>\n",
       "      <th>209</th>\n",
       "      <td>210</td>\n",
       "      <td>1.51623</td>\n",
       "      <td>14.14</td>\n",
       "      <td>0.00</td>\n",
       "      <td>2.88</td>\n",
       "      <td>72.61</td>\n",
       "      <td>0.08</td>\n",
       "      <td>9.18</td>\n",
       "      <td>1.06</td>\n",
       "      <td>0.0</td>\n",
       "      <td>1</td>\n",
       "    </tr>\n",
       "    <tr>\n",
       "      <th>210</th>\n",
       "      <td>211</td>\n",
       "      <td>1.51685</td>\n",
       "      <td>14.92</td>\n",
       "      <td>0.00</td>\n",
       "      <td>1.99</td>\n",
       "      <td>73.06</td>\n",
       "      <td>0.00</td>\n",
       "      <td>8.40</td>\n",
       "      <td>1.59</td>\n",
       "      <td>0.0</td>\n",
       "      <td>1</td>\n",
       "    </tr>\n",
       "    <tr>\n",
       "      <th>211</th>\n",
       "      <td>212</td>\n",
       "      <td>1.52065</td>\n",
       "      <td>14.36</td>\n",
       "      <td>0.00</td>\n",
       "      <td>2.02</td>\n",
       "      <td>73.42</td>\n",
       "      <td>0.00</td>\n",
       "      <td>8.44</td>\n",
       "      <td>1.64</td>\n",
       "      <td>0.0</td>\n",
       "      <td>1</td>\n",
       "    </tr>\n",
       "    <tr>\n",
       "      <th>212</th>\n",
       "      <td>213</td>\n",
       "      <td>1.51651</td>\n",
       "      <td>14.38</td>\n",
       "      <td>0.00</td>\n",
       "      <td>1.94</td>\n",
       "      <td>73.61</td>\n",
       "      <td>0.00</td>\n",
       "      <td>8.48</td>\n",
       "      <td>1.57</td>\n",
       "      <td>0.0</td>\n",
       "      <td>1</td>\n",
       "    </tr>\n",
       "    <tr>\n",
       "      <th>213</th>\n",
       "      <td>214</td>\n",
       "      <td>1.51711</td>\n",
       "      <td>14.23</td>\n",
       "      <td>0.00</td>\n",
       "      <td>2.08</td>\n",
       "      <td>73.36</td>\n",
       "      <td>0.00</td>\n",
       "      <td>8.62</td>\n",
       "      <td>1.67</td>\n",
       "      <td>0.0</td>\n",
       "      <td>1</td>\n",
       "    </tr>\n",
       "  </tbody>\n",
       "</table>\n",
       "<p>214 rows × 11 columns</p>\n",
       "</div>"
      ],
      "text/plain": [
       "     ID Number  Refractive_index  Sodium  Magnesium  Aluminum  Silicon  \\\n",
       "0            1           1.52101   13.64       4.49      1.10    71.78   \n",
       "1            2           1.51761   13.89       3.60      1.36    72.73   \n",
       "2            3           1.51618   13.53       3.55      1.54    72.99   \n",
       "3            4           1.51766   13.21       3.69      1.29    72.61   \n",
       "4            5           1.51742   13.27       3.62      1.24    73.08   \n",
       "..         ...               ...     ...        ...       ...      ...   \n",
       "209        210           1.51623   14.14       0.00      2.88    72.61   \n",
       "210        211           1.51685   14.92       0.00      1.99    73.06   \n",
       "211        212           1.52065   14.36       0.00      2.02    73.42   \n",
       "212        213           1.51651   14.38       0.00      1.94    73.61   \n",
       "213        214           1.51711   14.23       0.00      2.08    73.36   \n",
       "\n",
       "     Potassium  Calcium  Barium  Iron  Type_of_glass_new  \n",
       "0         0.06     8.75    0.00   0.0                  0  \n",
       "1         0.48     7.83    0.00   0.0                  0  \n",
       "2         0.39     7.78    0.00   0.0                  0  \n",
       "3         0.57     8.22    0.00   0.0                  0  \n",
       "4         0.55     8.07    0.00   0.0                  0  \n",
       "..         ...      ...     ...   ...                ...  \n",
       "209       0.08     9.18    1.06   0.0                  1  \n",
       "210       0.00     8.40    1.59   0.0                  1  \n",
       "211       0.00     8.44    1.64   0.0                  1  \n",
       "212       0.00     8.48    1.57   0.0                  1  \n",
       "213       0.00     8.62    1.67   0.0                  1  \n",
       "\n",
       "[214 rows x 11 columns]"
      ]
     },
     "execution_count": 46,
     "metadata": {},
     "output_type": "execute_result"
    }
   ],
   "source": [
    "df_new"
   ]
  },
  {
   "cell_type": "markdown",
   "id": "fb59e48b",
   "metadata": {},
   "source": [
    "In the above observation , we have created a new column (Type_of_glass_new) and have dropped the redundant column (Type_of_glass) as the dataset has been divided into window glass (classes 1-4) and non-window glass (classes 5-7)."
   ]
  },
  {
   "cell_type": "code",
   "execution_count": 47,
   "id": "361aa539",
   "metadata": {},
   "outputs": [
    {
     "data": {
      "text/plain": [
       "<function matplotlib.pyplot.show(close=None, block=None)>"
      ]
     },
     "execution_count": 47,
     "metadata": {},
     "output_type": "execute_result"
    },
    {
     "data": {
      "image/png": "[encoded data removed]",
      "text/plain": [
       "<Figure size 432x288 with 1 Axes>"
      ]
     },
     "metadata": {
      "needs_background": "light"
     },
     "output_type": "display_data"
    }
   ],
   "source": [
    "#Target variable\n",
    "\n",
    "df_new['Type_of_glass_new'].hist(grid=True)\n",
    "plt.title(\"window glass  and  non-window glass \")\n",
    "plt.show"
   ]
  },
  {
   "cell_type": "code",
   "execution_count": 48,
   "id": "fe781b7e",
   "metadata": {},
   "outputs": [
    {
     "data": {
      "text/plain": [
       "0    163\n",
       "1     51\n",
       "Name: Type_of_glass_new, dtype: int64"
      ]
     },
     "execution_count": 48,
     "metadata": {},
     "output_type": "execute_result"
    }
   ],
   "source": [
    "df_new['Type_of_glass_new'].value_counts()"
   ]
  },
  {
   "cell_type": "code",
   "execution_count": 49,
   "id": "704ccb17",
   "metadata": {},
   "outputs": [
    {
     "data": {
      "text/plain": [
       "0    76.168224\n",
       "1    23.831776\n",
       "Name: Type_of_glass_new, dtype: float64"
      ]
     },
     "execution_count": 49,
     "metadata": {},
     "output_type": "execute_result"
    }
   ],
   "source": [
    "df_new['Type_of_glass_new'].value_counts(normalize=True)*100"
   ]
  },
  {
   "cell_type": "markdown",
   "id": "a78af9a6",
   "metadata": {},
   "source": [
    "Here , the above observation shows that data is imbalanced and hence we will perform oversampling (using SMOTE)\n"
   ]
  },
  {
   "cell_type": "code",
   "execution_count": 78,
   "id": "b74238a0",
   "metadata": {},
   "outputs": [
    {
     "data": {
      "text/html": [
       "<div>\n",
       "<style scoped>\n",
       "    .dataframe tbody tr th:only-of-type {\n",
       "        vertical-align: middle;\n",
       "    }\n",
       "\n",
       "    .dataframe tbody tr th {\n",
       "        vertical-align: top;\n",
       "    }\n",
       "\n",
       "    .dataframe thead th {\n",
       "        text-align: right;\n",
       "    }\n",
       "</style>\n",
       "<table border=\"1\" class=\"dataframe\">\n",
       "  <thead>\n",
       "    <tr style=\"text-align: right;\">\n",
       "      <th></th>\n",
       "      <th>ID Number</th>\n",
       "      <th>Refractive_index</th>\n",
       "      <th>Sodium</th>\n",
       "      <th>Magnesium</th>\n",
       "      <th>Aluminum</th>\n",
       "      <th>Silicon</th>\n",
       "      <th>Potassium</th>\n",
       "      <th>Calcium</th>\n",
       "      <th>Barium</th>\n",
       "      <th>Iron</th>\n",
       "    </tr>\n",
       "  </thead>\n",
       "  <tbody>\n",
       "    <tr>\n",
       "      <th>0</th>\n",
       "      <td>1</td>\n",
       "      <td>1.52101</td>\n",
       "      <td>13.64</td>\n",
       "      <td>4.49</td>\n",
       "      <td>1.10</td>\n",
       "      <td>71.78</td>\n",
       "      <td>0.06</td>\n",
       "      <td>8.75</td>\n",
       "      <td>0.00</td>\n",
       "      <td>0.0</td>\n",
       "    </tr>\n",
       "    <tr>\n",
       "      <th>1</th>\n",
       "      <td>2</td>\n",
       "      <td>1.51761</td>\n",
       "      <td>13.89</td>\n",
       "      <td>3.60</td>\n",
       "      <td>1.36</td>\n",
       "      <td>72.73</td>\n",
       "      <td>0.48</td>\n",
       "      <td>7.83</td>\n",
       "      <td>0.00</td>\n",
       "      <td>0.0</td>\n",
       "    </tr>\n",
       "    <tr>\n",
       "      <th>2</th>\n",
       "      <td>3</td>\n",
       "      <td>1.51618</td>\n",
       "      <td>13.53</td>\n",
       "      <td>3.55</td>\n",
       "      <td>1.54</td>\n",
       "      <td>72.99</td>\n",
       "      <td>0.39</td>\n",
       "      <td>7.78</td>\n",
       "      <td>0.00</td>\n",
       "      <td>0.0</td>\n",
       "    </tr>\n",
       "    <tr>\n",
       "      <th>3</th>\n",
       "      <td>4</td>\n",
       "      <td>1.51766</td>\n",
       "      <td>13.21</td>\n",
       "      <td>3.69</td>\n",
       "      <td>1.29</td>\n",
       "      <td>72.61</td>\n",
       "      <td>0.57</td>\n",
       "      <td>8.22</td>\n",
       "      <td>0.00</td>\n",
       "      <td>0.0</td>\n",
       "    </tr>\n",
       "    <tr>\n",
       "      <th>4</th>\n",
       "      <td>5</td>\n",
       "      <td>1.51742</td>\n",
       "      <td>13.27</td>\n",
       "      <td>3.62</td>\n",
       "      <td>1.24</td>\n",
       "      <td>73.08</td>\n",
       "      <td>0.55</td>\n",
       "      <td>8.07</td>\n",
       "      <td>0.00</td>\n",
       "      <td>0.0</td>\n",
       "    </tr>\n",
       "    <tr>\n",
       "      <th>...</th>\n",
       "      <td>...</td>\n",
       "      <td>...</td>\n",
       "      <td>...</td>\n",
       "      <td>...</td>\n",
       "      <td>...</td>\n",
       "      <td>...</td>\n",
       "      <td>...</td>\n",
       "      <td>...</td>\n",
       "      <td>...</td>\n",
       "      <td>...</td>\n",
       "    </tr>\n",
       "    <tr>\n",
       "      <th>209</th>\n",
       "      <td>210</td>\n",
       "      <td>1.51623</td>\n",
       "      <td>14.14</td>\n",
       "      <td>0.00</td>\n",
       "      <td>2.88</td>\n",
       "      <td>72.61</td>\n",
       "      <td>0.08</td>\n",
       "      <td>9.18</td>\n",
       "      <td>1.06</td>\n",
       "      <td>0.0</td>\n",
       "    </tr>\n",
       "    <tr>\n",
       "      <th>210</th>\n",
       "      <td>211</td>\n",
       "      <td>1.51685</td>\n",
       "      <td>14.92</td>\n",
       "      <td>0.00</td>\n",
       "      <td>1.99</td>\n",
       "      <td>73.06</td>\n",
       "      <td>0.00</td>\n",
       "      <td>8.40</td>\n",
       "      <td>1.59</td>\n",
       "      <td>0.0</td>\n",
       "    </tr>\n",
       "    <tr>\n",
       "      <th>211</th>\n",
       "      <td>212</td>\n",
       "      <td>1.52065</td>\n",
       "      <td>14.36</td>\n",
       "      <td>0.00</td>\n",
       "      <td>2.02</td>\n",
       "      <td>73.42</td>\n",
       "      <td>0.00</td>\n",
       "      <td>8.44</td>\n",
       "      <td>1.64</td>\n",
       "      <td>0.0</td>\n",
       "    </tr>\n",
       "    <tr>\n",
       "      <th>212</th>\n",
       "      <td>213</td>\n",
       "      <td>1.51651</td>\n",
       "      <td>14.38</td>\n",
       "      <td>0.00</td>\n",
       "      <td>1.94</td>\n",
       "      <td>73.61</td>\n",
       "      <td>0.00</td>\n",
       "      <td>8.48</td>\n",
       "      <td>1.57</td>\n",
       "      <td>0.0</td>\n",
       "    </tr>\n",
       "    <tr>\n",
       "      <th>213</th>\n",
       "      <td>214</td>\n",
       "      <td>1.51711</td>\n",
       "      <td>14.23</td>\n",
       "      <td>0.00</td>\n",
       "      <td>2.08</td>\n",
       "      <td>73.36</td>\n",
       "      <td>0.00</td>\n",
       "      <td>8.62</td>\n",
       "      <td>1.67</td>\n",
       "      <td>0.0</td>\n",
       "    </tr>\n",
       "  </tbody>\n",
       "</table>\n",
       "<p>214 rows × 10 columns</p>\n",
       "</div>"
      ],
      "text/plain": [
       "     ID Number  Refractive_index  Sodium  Magnesium  Aluminum  Silicon  \\\n",
       "0            1           1.52101   13.64       4.49      1.10    71.78   \n",
       "1            2           1.51761   13.89       3.60      1.36    72.73   \n",
       "2            3           1.51618   13.53       3.55      1.54    72.99   \n",
       "3            4           1.51766   13.21       3.69      1.29    72.61   \n",
       "4            5           1.51742   13.27       3.62      1.24    73.08   \n",
       "..         ...               ...     ...        ...       ...      ...   \n",
       "209        210           1.51623   14.14       0.00      2.88    72.61   \n",
       "210        211           1.51685   14.92       0.00      1.99    73.06   \n",
       "211        212           1.52065   14.36       0.00      2.02    73.42   \n",
       "212        213           1.51651   14.38       0.00      1.94    73.61   \n",
       "213        214           1.51711   14.23       0.00      2.08    73.36   \n",
       "\n",
       "     Potassium  Calcium  Barium  Iron  \n",
       "0         0.06     8.75    0.00   0.0  \n",
       "1         0.48     7.83    0.00   0.0  \n",
       "2         0.39     7.78    0.00   0.0  \n",
       "3         0.57     8.22    0.00   0.0  \n",
       "4         0.55     8.07    0.00   0.0  \n",
       "..         ...      ...     ...   ...  \n",
       "209       0.08     9.18    1.06   0.0  \n",
       "210       0.00     8.40    1.59   0.0  \n",
       "211       0.00     8.44    1.64   0.0  \n",
       "212       0.00     8.48    1.57   0.0  \n",
       "213       0.00     8.62    1.67   0.0  \n",
       "\n",
       "[214 rows x 10 columns]"
      ]
     },
     "execution_count": 78,
     "metadata": {},
     "output_type": "execute_result"
    }
   ],
   "source": [
    "#seperating the input and output variables\n",
    "x=df_new.drop(\"Type_of_glass_new\",axis=1)\n",
    "x"
   ]
  },
  {
   "cell_type": "code",
   "execution_count": 79,
   "id": "67bb418c",
   "metadata": {},
   "outputs": [
    {
     "data": {
      "text/plain": [
       "0      0\n",
       "1      0\n",
       "2      0\n",
       "3      0\n",
       "4      0\n",
       "      ..\n",
       "209    1\n",
       "210    1\n",
       "211    1\n",
       "212    1\n",
       "213    1\n",
       "Name: Type_of_glass_new, Length: 214, dtype: int64"
      ]
     },
     "execution_count": 79,
     "metadata": {},
     "output_type": "execute_result"
    }
   ],
   "source": [
    "y=df[\"Type_of_glass_new\"]\n",
    "y"
   ]
  },
  {
   "cell_type": "markdown",
   "id": "a29946a6",
   "metadata": {},
   "source": [
    "# oversampling"
   ]
  },
  {
   "cell_type": "code",
   "execution_count": 139,
   "id": "be2ac21a",
   "metadata": {},
   "outputs": [],
   "source": [
    "from imblearn.over_sampling import SMOTE\n",
    "oversample=SMOTE()\n",
    "xo,yo=oversample.fit_resample(x,y)"
   ]
  },
  {
   "cell_type": "code",
   "execution_count": 140,
   "id": "69d3d55b",
   "metadata": {},
   "outputs": [
    {
     "data": {
      "text/plain": [
       "Type_of_glass_new\n",
       "0                    163\n",
       "1                    163\n",
       "dtype: int64"
      ]
     },
     "execution_count": 140,
     "metadata": {},
     "output_type": "execute_result"
    }
   ],
   "source": [
    "#checking the oversampling output\n",
    "y1=pd.DataFrame(yo)\n",
    "y1.value_counts()"
   ]
  },
  {
   "cell_type": "code",
   "execution_count": 141,
   "id": "4ca79f9e",
   "metadata": {},
   "outputs": [
    {
     "data": {
      "text/plain": [
       "<AxesSubplot:title={'center':'after oversampling'}, xlabel='Type_of_glass_new', ylabel='count'>"
      ]
     },
     "execution_count": 141,
     "metadata": {},
     "output_type": "execute_result"
    },
    {
     "data": {
      "image/png": "[encoded data removed]",
      "text/plain": [
       "<Figure size 720x360 with 2 Axes>"
      ]
     },
     "metadata": {
      "needs_background": "light"
     },
     "output_type": "display_data"
    }
   ],
   "source": [
    "#countplot before and after Oversampling of data\n",
    "\n",
    "figure, axes = plt.subplots(1, 2, sharex=True,figsize=(10, 5))\n",
    "figure.suptitle('over sampling')\n",
    "axes[0].set_title('before oversampling')\n",
    "axes[1].set_title('after oversampling')\n",
    "sns.countplot(x = y, color = 'green',ax=axes[0])\n",
    "sns.countplot(x = yo, color = 'green',ax=axes[1])"
   ]
  },
  {
   "cell_type": "markdown",
   "id": "1c81811f",
   "metadata": {},
   "source": [
    "# Checking Correlation"
   ]
  },
  {
   "cell_type": "code",
   "execution_count": 142,
   "id": "e040c299",
   "metadata": {},
   "outputs": [
    {
     "data": {
      "text/html": [
       "<div>\n",
       "<style scoped>\n",
       "    .dataframe tbody tr th:only-of-type {\n",
       "        vertical-align: middle;\n",
       "    }\n",
       "\n",
       "    .dataframe tbody tr th {\n",
       "        vertical-align: top;\n",
       "    }\n",
       "\n",
       "    .dataframe thead th {\n",
       "        text-align: right;\n",
       "    }\n",
       "</style>\n",
       "<table border=\"1\" class=\"dataframe\">\n",
       "  <thead>\n",
       "    <tr style=\"text-align: right;\">\n",
       "      <th></th>\n",
       "      <th>ID Number</th>\n",
       "      <th>Refractive_index</th>\n",
       "      <th>Sodium</th>\n",
       "      <th>Magnesium</th>\n",
       "      <th>Aluminum</th>\n",
       "      <th>Silicon</th>\n",
       "      <th>Potassium</th>\n",
       "      <th>Calcium</th>\n",
       "      <th>Barium</th>\n",
       "      <th>Iron</th>\n",
       "      <th>Type_of_glass_new</th>\n",
       "    </tr>\n",
       "  </thead>\n",
       "  <tbody>\n",
       "    <tr>\n",
       "      <th>ID Number</th>\n",
       "      <td>1.000000</td>\n",
       "      <td>-0.072209</td>\n",
       "      <td>0.375722</td>\n",
       "      <td>-0.650328</td>\n",
       "      <td>0.490113</td>\n",
       "      <td>0.061232</td>\n",
       "      <td>0.003149</td>\n",
       "      <td>0.090800</td>\n",
       "      <td>0.451001</td>\n",
       "      <td>-0.072794</td>\n",
       "      <td>0.737956</td>\n",
       "    </tr>\n",
       "    <tr>\n",
       "      <th>Refractive_index</th>\n",
       "      <td>-0.072209</td>\n",
       "      <td>1.000000</td>\n",
       "      <td>-0.191885</td>\n",
       "      <td>-0.122274</td>\n",
       "      <td>-0.407326</td>\n",
       "      <td>-0.542052</td>\n",
       "      <td>-0.289833</td>\n",
       "      <td>0.810403</td>\n",
       "      <td>-0.000386</td>\n",
       "      <td>0.143010</td>\n",
       "      <td>-0.134327</td>\n",
       "    </tr>\n",
       "    <tr>\n",
       "      <th>Sodium</th>\n",
       "      <td>0.375722</td>\n",
       "      <td>-0.191885</td>\n",
       "      <td>1.000000</td>\n",
       "      <td>-0.273732</td>\n",
       "      <td>0.156794</td>\n",
       "      <td>-0.069809</td>\n",
       "      <td>-0.266087</td>\n",
       "      <td>-0.275442</td>\n",
       "      <td>0.326603</td>\n",
       "      <td>-0.241346</td>\n",
       "      <td>0.452336</td>\n",
       "    </tr>\n",
       "    <tr>\n",
       "      <th>Magnesium</th>\n",
       "      <td>-0.650328</td>\n",
       "      <td>-0.122274</td>\n",
       "      <td>-0.273732</td>\n",
       "      <td>1.000000</td>\n",
       "      <td>-0.481799</td>\n",
       "      <td>-0.165927</td>\n",
       "      <td>0.005396</td>\n",
       "      <td>-0.443750</td>\n",
       "      <td>-0.492262</td>\n",
       "      <td>0.083060</td>\n",
       "      <td>-0.758289</td>\n",
       "    </tr>\n",
       "    <tr>\n",
       "      <th>Aluminum</th>\n",
       "      <td>0.490113</td>\n",
       "      <td>-0.407326</td>\n",
       "      <td>0.156794</td>\n",
       "      <td>-0.481799</td>\n",
       "      <td>1.000000</td>\n",
       "      <td>-0.005524</td>\n",
       "      <td>0.325958</td>\n",
       "      <td>-0.259592</td>\n",
       "      <td>0.479404</td>\n",
       "      <td>-0.074402</td>\n",
       "      <td>0.585928</td>\n",
       "    </tr>\n",
       "    <tr>\n",
       "      <th>Silicon</th>\n",
       "      <td>0.061232</td>\n",
       "      <td>-0.542052</td>\n",
       "      <td>-0.069809</td>\n",
       "      <td>-0.165927</td>\n",
       "      <td>-0.005524</td>\n",
       "      <td>1.000000</td>\n",
       "      <td>-0.193331</td>\n",
       "      <td>-0.208732</td>\n",
       "      <td>-0.102151</td>\n",
       "      <td>-0.094201</td>\n",
       "      <td>0.148072</td>\n",
       "    </tr>\n",
       "    <tr>\n",
       "      <th>Potassium</th>\n",
       "      <td>0.003149</td>\n",
       "      <td>-0.289833</td>\n",
       "      <td>-0.266087</td>\n",
       "      <td>0.005396</td>\n",
       "      <td>0.325958</td>\n",
       "      <td>-0.193331</td>\n",
       "      <td>1.000000</td>\n",
       "      <td>-0.317836</td>\n",
       "      <td>-0.042618</td>\n",
       "      <td>-0.007719</td>\n",
       "      <td>0.053774</td>\n",
       "    </tr>\n",
       "    <tr>\n",
       "      <th>Calcium</th>\n",
       "      <td>0.090800</td>\n",
       "      <td>0.810403</td>\n",
       "      <td>-0.275442</td>\n",
       "      <td>-0.443750</td>\n",
       "      <td>-0.259592</td>\n",
       "      <td>-0.208732</td>\n",
       "      <td>-0.317836</td>\n",
       "      <td>1.000000</td>\n",
       "      <td>-0.112841</td>\n",
       "      <td>0.124968</td>\n",
       "      <td>0.040670</td>\n",
       "    </tr>\n",
       "    <tr>\n",
       "      <th>Barium</th>\n",
       "      <td>0.451001</td>\n",
       "      <td>-0.000386</td>\n",
       "      <td>0.326603</td>\n",
       "      <td>-0.492262</td>\n",
       "      <td>0.479404</td>\n",
       "      <td>-0.102151</td>\n",
       "      <td>-0.042618</td>\n",
       "      <td>-0.112841</td>\n",
       "      <td>1.000000</td>\n",
       "      <td>-0.058692</td>\n",
       "      <td>0.523403</td>\n",
       "    </tr>\n",
       "    <tr>\n",
       "      <th>Iron</th>\n",
       "      <td>-0.072794</td>\n",
       "      <td>0.143010</td>\n",
       "      <td>-0.241346</td>\n",
       "      <td>0.083060</td>\n",
       "      <td>-0.074402</td>\n",
       "      <td>-0.094201</td>\n",
       "      <td>-0.007719</td>\n",
       "      <td>0.124968</td>\n",
       "      <td>-0.058692</td>\n",
       "      <td>1.000000</td>\n",
       "      <td>-0.194903</td>\n",
       "    </tr>\n",
       "    <tr>\n",
       "      <th>Type_of_glass_new</th>\n",
       "      <td>0.737956</td>\n",
       "      <td>-0.134327</td>\n",
       "      <td>0.452336</td>\n",
       "      <td>-0.758289</td>\n",
       "      <td>0.585928</td>\n",
       "      <td>0.148072</td>\n",
       "      <td>0.053774</td>\n",
       "      <td>0.040670</td>\n",
       "      <td>0.523403</td>\n",
       "      <td>-0.194903</td>\n",
       "      <td>1.000000</td>\n",
       "    </tr>\n",
       "  </tbody>\n",
       "</table>\n",
       "</div>"
      ],
      "text/plain": [
       "                   ID Number  Refractive_index    Sodium  Magnesium  Aluminum  \\\n",
       "ID Number           1.000000         -0.072209  0.375722  -0.650328  0.490113   \n",
       "Refractive_index   -0.072209          1.000000 -0.191885  -0.122274 -0.407326   \n",
       "Sodium              0.375722         -0.191885  1.000000  -0.273732  0.156794   \n",
       "Magnesium          -0.650328         -0.122274 -0.273732   1.000000 -0.481799   \n",
       "Aluminum            0.490113         -0.407326  0.156794  -0.481799  1.000000   \n",
       "Silicon             0.061232         -0.542052 -0.069809  -0.165927 -0.005524   \n",
       "Potassium           0.003149         -0.289833 -0.266087   0.005396  0.325958   \n",
       "Calcium             0.090800          0.810403 -0.275442  -0.443750 -0.259592   \n",
       "Barium              0.451001         -0.000386  0.326603  -0.492262  0.479404   \n",
       "Iron               -0.072794          0.143010 -0.241346   0.083060 -0.074402   \n",
       "Type_of_glass_new   0.737956         -0.134327  0.452336  -0.758289  0.585928   \n",
       "\n",
       "                    Silicon  Potassium   Calcium    Barium      Iron  \\\n",
       "ID Number          0.061232   0.003149  0.090800  0.451001 -0.072794   \n",
       "Refractive_index  -0.542052  -0.289833  0.810403 -0.000386  0.143010   \n",
       "Sodium            -0.069809  -0.266087 -0.275442  0.326603 -0.241346   \n",
       "Magnesium         -0.165927   0.005396 -0.443750 -0.492262  0.083060   \n",
       "Aluminum          -0.005524   0.325958 -0.259592  0.479404 -0.074402   \n",
       "Silicon            1.000000  -0.193331 -0.208732 -0.102151 -0.094201   \n",
       "Potassium         -0.193331   1.000000 -0.317836 -0.042618 -0.007719   \n",
       "Calcium           -0.208732  -0.317836  1.000000 -0.112841  0.124968   \n",
       "Barium            -0.102151  -0.042618 -0.112841  1.000000 -0.058692   \n",
       "Iron              -0.094201  -0.007719  0.124968 -0.058692  1.000000   \n",
       "Type_of_glass_new  0.148072   0.053774  0.040670  0.523403 -0.194903   \n",
       "\n",
       "                   Type_of_glass_new  \n",
       "ID Number                   0.737956  \n",
       "Refractive_index           -0.134327  \n",
       "Sodium                      0.452336  \n",
       "Magnesium                  -0.758289  \n",
       "Aluminum                    0.585928  \n",
       "Silicon                     0.148072  \n",
       "Potassium                   0.053774  \n",
       "Calcium                     0.040670  \n",
       "Barium                      0.523403  \n",
       "Iron                       -0.194903  \n",
       "Type_of_glass_new           1.000000  "
      ]
     },
     "execution_count": 142,
     "metadata": {},
     "output_type": "execute_result"
    }
   ],
   "source": [
    "df_new.corr()\n"
   ]
  },
  {
   "cell_type": "code",
   "execution_count": 143,
   "id": "0cc15252",
   "metadata": {},
   "outputs": [],
   "source": [
    "corr_mat=df_new.corr()"
   ]
  },
  {
   "cell_type": "code",
   "execution_count": 144,
   "id": "31929fa4",
   "metadata": {},
   "outputs": [
    {
     "data": {
      "image/png": "[encoded data removed]",
      "text/plain": [
       "<Figure size 1440x1440 with 2 Axes>"
      ]
     },
     "metadata": {
      "needs_background": "light"
     },
     "output_type": "display_data"
    }
   ],
   "source": [
    "plt.figure(figsize=[20,20])\n",
    "sns.heatmap(corr_mat,annot=True)\n",
    "plt.title(\"Correlation Matrix\")\n",
    "plt.show()"
   ]
  },
  {
   "cell_type": "markdown",
   "id": "e1b8b9a6",
   "metadata": {},
   "source": [
    "From the above correlation matrix , we can see that there is no multicolinearity present as almost the values are < 0.7"
   ]
  },
  {
   "cell_type": "code",
   "execution_count": 145,
   "id": "be4165f7",
   "metadata": {},
   "outputs": [
    {
     "data": {
      "text/plain": [
       "Type_of_glass_new    1.000000\n",
       "ID Number            0.737956\n",
       "Aluminum             0.585928\n",
       "Barium               0.523403\n",
       "Sodium               0.452336\n",
       "Silicon              0.148072\n",
       "Potassium            0.053774\n",
       "Calcium              0.040670\n",
       "Refractive_index    -0.134327\n",
       "Iron                -0.194903\n",
       "Magnesium           -0.758289\n",
       "Name: Type_of_glass_new, dtype: float64"
      ]
     },
     "execution_count": 145,
     "metadata": {},
     "output_type": "execute_result"
    }
   ],
   "source": [
    "# We shall check the correlation with the target variable\n",
    "corr_matrix=df_new.corr()\n",
    "corr_matrix[\"Type_of_glass_new\"].sort_values(ascending=False)"
   ]
  },
  {
   "cell_type": "markdown",
   "id": "895fb8af",
   "metadata": {},
   "source": [
    "From the above observation , we can see that, the correlation values in descending form (from highest to lowest) , with ID Number being the highest value of 0.7379 and Magnesium being the lowest value of -0.7582.\n",
    "Since all the values are <0.7 , there is no any multicolinearity present "
   ]
  },
  {
   "cell_type": "code",
   "execution_count": 146,
   "id": "b6d7d651",
   "metadata": {},
   "outputs": [],
   "source": [
    "#Check the data distribution among all the columns"
   ]
  },
  {
   "cell_type": "code",
   "execution_count": 147,
   "id": "ead2b852",
   "metadata": {},
   "outputs": [
    {
     "data": {
      "image/png": "[encoded data removed]",
      "text/plain": [
       "<Figure size 2016x1584 with 220 Axes>"
      ]
     },
     "metadata": {
      "needs_background": "light"
     },
     "output_type": "display_data"
    }
   ],
   "source": [
    "df_new.plot(kind='density',subplots=True,layout=(20,11),sharex=False,legend=True,fontsize=1,figsize=(28,22))\n",
    "plt.show()"
   ]
  },
  {
   "cell_type": "code",
   "execution_count": 148,
   "id": "7d9920e2",
   "metadata": {},
   "outputs": [
    {
     "data": {
      "text/plain": [
       "(214, 11)"
      ]
     },
     "execution_count": 148,
     "metadata": {},
     "output_type": "execute_result"
    }
   ],
   "source": [
    "df_new.shape"
   ]
  },
  {
   "cell_type": "markdown",
   "id": "ed8e637d",
   "metadata": {},
   "source": [
    "# Data Preprocessing"
   ]
  },
  {
   "cell_type": "code",
   "execution_count": 149,
   "id": "8e8477bf",
   "metadata": {},
   "outputs": [
    {
     "data": {
      "text/html": [
       "<div>\n",
       "<style scoped>\n",
       "    .dataframe tbody tr th:only-of-type {\n",
       "        vertical-align: middle;\n",
       "    }\n",
       "\n",
       "    .dataframe tbody tr th {\n",
       "        vertical-align: top;\n",
       "    }\n",
       "\n",
       "    .dataframe thead th {\n",
       "        text-align: right;\n",
       "    }\n",
       "</style>\n",
       "<table border=\"1\" class=\"dataframe\">\n",
       "  <thead>\n",
       "    <tr style=\"text-align: right;\">\n",
       "      <th></th>\n",
       "      <th>ID Number</th>\n",
       "      <th>Refractive_index</th>\n",
       "      <th>Sodium</th>\n",
       "      <th>Magnesium</th>\n",
       "      <th>Aluminum</th>\n",
       "      <th>Silicon</th>\n",
       "      <th>Potassium</th>\n",
       "      <th>Calcium</th>\n",
       "      <th>Barium</th>\n",
       "      <th>Iron</th>\n",
       "    </tr>\n",
       "  </thead>\n",
       "  <tbody>\n",
       "    <tr>\n",
       "      <th>0</th>\n",
       "      <td>1</td>\n",
       "      <td>1.52101</td>\n",
       "      <td>13.64</td>\n",
       "      <td>4.49</td>\n",
       "      <td>1.10</td>\n",
       "      <td>71.78</td>\n",
       "      <td>0.06</td>\n",
       "      <td>8.75</td>\n",
       "      <td>0.00</td>\n",
       "      <td>0.0</td>\n",
       "    </tr>\n",
       "    <tr>\n",
       "      <th>1</th>\n",
       "      <td>2</td>\n",
       "      <td>1.51761</td>\n",
       "      <td>13.89</td>\n",
       "      <td>3.60</td>\n",
       "      <td>1.36</td>\n",
       "      <td>72.73</td>\n",
       "      <td>0.48</td>\n",
       "      <td>7.83</td>\n",
       "      <td>0.00</td>\n",
       "      <td>0.0</td>\n",
       "    </tr>\n",
       "    <tr>\n",
       "      <th>2</th>\n",
       "      <td>3</td>\n",
       "      <td>1.51618</td>\n",
       "      <td>13.53</td>\n",
       "      <td>3.55</td>\n",
       "      <td>1.54</td>\n",
       "      <td>72.99</td>\n",
       "      <td>0.39</td>\n",
       "      <td>7.78</td>\n",
       "      <td>0.00</td>\n",
       "      <td>0.0</td>\n",
       "    </tr>\n",
       "    <tr>\n",
       "      <th>3</th>\n",
       "      <td>4</td>\n",
       "      <td>1.51766</td>\n",
       "      <td>13.21</td>\n",
       "      <td>3.69</td>\n",
       "      <td>1.29</td>\n",
       "      <td>72.61</td>\n",
       "      <td>0.57</td>\n",
       "      <td>8.22</td>\n",
       "      <td>0.00</td>\n",
       "      <td>0.0</td>\n",
       "    </tr>\n",
       "    <tr>\n",
       "      <th>4</th>\n",
       "      <td>5</td>\n",
       "      <td>1.51742</td>\n",
       "      <td>13.27</td>\n",
       "      <td>3.62</td>\n",
       "      <td>1.24</td>\n",
       "      <td>73.08</td>\n",
       "      <td>0.55</td>\n",
       "      <td>8.07</td>\n",
       "      <td>0.00</td>\n",
       "      <td>0.0</td>\n",
       "    </tr>\n",
       "    <tr>\n",
       "      <th>...</th>\n",
       "      <td>...</td>\n",
       "      <td>...</td>\n",
       "      <td>...</td>\n",
       "      <td>...</td>\n",
       "      <td>...</td>\n",
       "      <td>...</td>\n",
       "      <td>...</td>\n",
       "      <td>...</td>\n",
       "      <td>...</td>\n",
       "      <td>...</td>\n",
       "    </tr>\n",
       "    <tr>\n",
       "      <th>209</th>\n",
       "      <td>210</td>\n",
       "      <td>1.51623</td>\n",
       "      <td>14.14</td>\n",
       "      <td>0.00</td>\n",
       "      <td>2.88</td>\n",
       "      <td>72.61</td>\n",
       "      <td>0.08</td>\n",
       "      <td>9.18</td>\n",
       "      <td>1.06</td>\n",
       "      <td>0.0</td>\n",
       "    </tr>\n",
       "    <tr>\n",
       "      <th>210</th>\n",
       "      <td>211</td>\n",
       "      <td>1.51685</td>\n",
       "      <td>14.92</td>\n",
       "      <td>0.00</td>\n",
       "      <td>1.99</td>\n",
       "      <td>73.06</td>\n",
       "      <td>0.00</td>\n",
       "      <td>8.40</td>\n",
       "      <td>1.59</td>\n",
       "      <td>0.0</td>\n",
       "    </tr>\n",
       "    <tr>\n",
       "      <th>211</th>\n",
       "      <td>212</td>\n",
       "      <td>1.52065</td>\n",
       "      <td>14.36</td>\n",
       "      <td>0.00</td>\n",
       "      <td>2.02</td>\n",
       "      <td>73.42</td>\n",
       "      <td>0.00</td>\n",
       "      <td>8.44</td>\n",
       "      <td>1.64</td>\n",
       "      <td>0.0</td>\n",
       "    </tr>\n",
       "    <tr>\n",
       "      <th>212</th>\n",
       "      <td>213</td>\n",
       "      <td>1.51651</td>\n",
       "      <td>14.38</td>\n",
       "      <td>0.00</td>\n",
       "      <td>1.94</td>\n",
       "      <td>73.61</td>\n",
       "      <td>0.00</td>\n",
       "      <td>8.48</td>\n",
       "      <td>1.57</td>\n",
       "      <td>0.0</td>\n",
       "    </tr>\n",
       "    <tr>\n",
       "      <th>213</th>\n",
       "      <td>214</td>\n",
       "      <td>1.51711</td>\n",
       "      <td>14.23</td>\n",
       "      <td>0.00</td>\n",
       "      <td>2.08</td>\n",
       "      <td>73.36</td>\n",
       "      <td>0.00</td>\n",
       "      <td>8.62</td>\n",
       "      <td>1.67</td>\n",
       "      <td>0.0</td>\n",
       "    </tr>\n",
       "  </tbody>\n",
       "</table>\n",
       "<p>214 rows × 10 columns</p>\n",
       "</div>"
      ],
      "text/plain": [
       "     ID Number  Refractive_index  Sodium  Magnesium  Aluminum  Silicon  \\\n",
       "0            1           1.52101   13.64       4.49      1.10    71.78   \n",
       "1            2           1.51761   13.89       3.60      1.36    72.73   \n",
       "2            3           1.51618   13.53       3.55      1.54    72.99   \n",
       "3            4           1.51766   13.21       3.69      1.29    72.61   \n",
       "4            5           1.51742   13.27       3.62      1.24    73.08   \n",
       "..         ...               ...     ...        ...       ...      ...   \n",
       "209        210           1.51623   14.14       0.00      2.88    72.61   \n",
       "210        211           1.51685   14.92       0.00      1.99    73.06   \n",
       "211        212           1.52065   14.36       0.00      2.02    73.42   \n",
       "212        213           1.51651   14.38       0.00      1.94    73.61   \n",
       "213        214           1.51711   14.23       0.00      2.08    73.36   \n",
       "\n",
       "     Potassium  Calcium  Barium  Iron  \n",
       "0         0.06     8.75    0.00   0.0  \n",
       "1         0.48     7.83    0.00   0.0  \n",
       "2         0.39     7.78    0.00   0.0  \n",
       "3         0.57     8.22    0.00   0.0  \n",
       "4         0.55     8.07    0.00   0.0  \n",
       "..         ...      ...     ...   ...  \n",
       "209       0.08     9.18    1.06   0.0  \n",
       "210       0.00     8.40    1.59   0.0  \n",
       "211       0.00     8.44    1.64   0.0  \n",
       "212       0.00     8.48    1.57   0.0  \n",
       "213       0.00     8.62    1.67   0.0  \n",
       "\n",
       "[214 rows x 10 columns]"
      ]
     },
     "execution_count": 149,
     "metadata": {},
     "output_type": "execute_result"
    }
   ],
   "source": [
    "x=df_new.drop(\"Type_of_glass_new\",axis=1)\n",
    "x"
   ]
  },
  {
   "cell_type": "code",
   "execution_count": 150,
   "id": "7ad37e06",
   "metadata": {},
   "outputs": [
    {
     "data": {
      "text/plain": [
       "0      0\n",
       "1      0\n",
       "2      0\n",
       "3      0\n",
       "4      0\n",
       "      ..\n",
       "209    1\n",
       "210    1\n",
       "211    1\n",
       "212    1\n",
       "213    1\n",
       "Name: Type_of_glass_new, Length: 214, dtype: int64"
      ]
     },
     "execution_count": 150,
     "metadata": {},
     "output_type": "execute_result"
    }
   ],
   "source": [
    "y=df[\"Type_of_glass_new\"]\n",
    "y"
   ]
  },
  {
   "cell_type": "code",
   "execution_count": 151,
   "id": "33f4335a",
   "metadata": {},
   "outputs": [
    {
     "data": {
      "text/plain": [
       "(214, 11)"
      ]
     },
     "execution_count": 151,
     "metadata": {},
     "output_type": "execute_result"
    }
   ],
   "source": [
    "df_new.shape"
   ]
  },
  {
   "cell_type": "code",
   "execution_count": 152,
   "id": "26c3b583",
   "metadata": {},
   "outputs": [
    {
     "data": {
      "text/plain": [
       "(214, 10)"
      ]
     },
     "execution_count": 152,
     "metadata": {},
     "output_type": "execute_result"
    }
   ],
   "source": [
    "x.shape"
   ]
  },
  {
   "cell_type": "code",
   "execution_count": 153,
   "id": "0c915748",
   "metadata": {},
   "outputs": [
    {
     "data": {
      "text/plain": [
       "(214,)"
      ]
     },
     "execution_count": 153,
     "metadata": {},
     "output_type": "execute_result"
    }
   ],
   "source": [
    "y.shape"
   ]
  },
  {
   "cell_type": "markdown",
   "id": "93ca4ec3",
   "metadata": {},
   "source": [
    "# Skewness"
   ]
  },
  {
   "cell_type": "markdown",
   "id": "00f5d28d",
   "metadata": {},
   "source": [
    "Ideally the skewness should be zero(0), any other value means that data is not normally distributed.\n",
    "Splitting the independent and target variables in x and y\n"
   ]
  },
  {
   "cell_type": "code",
   "execution_count": 154,
   "id": "beb4f526",
   "metadata": {},
   "outputs": [
    {
     "data": {
      "text/plain": [
       "Potassium           5.270955\n",
       "Iron                2.310682\n",
       "Barium              2.044068\n",
       "Calcium             1.570313\n",
       "Refractive_index    1.403237\n",
       "Aluminum            0.435070\n",
       "Sodium              0.186161\n",
       "Magnesium          -0.233926\n",
       "ID Number          -0.629961\n",
       "Silicon            -0.728445\n",
       "dtype: float64"
      ]
     },
     "execution_count": 154,
     "metadata": {},
     "output_type": "execute_result"
    }
   ],
   "source": [
    "xo.skew().sort_values(ascending=False)"
   ]
  },
  {
   "cell_type": "code",
   "execution_count": 155,
   "id": "e1ca4a24",
   "metadata": {},
   "outputs": [
    {
     "data": {
      "text/plain": [
       "(326, 10)"
      ]
     },
     "execution_count": 155,
     "metadata": {},
     "output_type": "execute_result"
    }
   ],
   "source": [
    "xo.shape"
   ]
  },
  {
   "cell_type": "code",
   "execution_count": 156,
   "id": "6006889d",
   "metadata": {},
   "outputs": [
    {
     "data": {
      "text/plain": [
       "(326,)"
      ]
     },
     "execution_count": 156,
     "metadata": {},
     "output_type": "execute_result"
    }
   ],
   "source": [
    "yo.shape"
   ]
  },
  {
   "cell_type": "markdown",
   "id": "d51a7f3a",
   "metadata": {},
   "source": [
    "After Oversampling the data , the shape of new xo is (326,10) , From the above observation it is seen that the highest skewness is for Potassium(5.2179)\n",
    "and moving below , the lowest skewness is for Silicon(-0.866559).We can see skewness in most of the columns of dataset. \n",
    "We will remove the skewness by using PowerTransform()"
   ]
  },
  {
   "cell_type": "code",
   "execution_count": 157,
   "id": "2aa0969a",
   "metadata": {},
   "outputs": [
    {
     "data": {
      "text/plain": [
       "array([[-1.95093884,  0.        , -0.01089209, ..., -0.10196924,\n",
       "        -0.65914119, -0.60872576],\n",
       "       [-1.94250344,  0.        ,  0.25708663, ..., -0.95368244,\n",
       "        -0.65914119, -0.60872576],\n",
       "       [-1.93357753,  0.        , -0.1297609 , ..., -1.00505988,\n",
       "        -0.65914119, -0.60872576],\n",
       "       ...,\n",
       "       [ 0.8472405 ,  0.        ,  1.04954111, ..., -0.60500732,\n",
       "         1.48178245, -0.60872576],\n",
       "       [ 0.7606431 ,  0.        ,  0.91189083, ...,  0.92359778,\n",
       "        -0.65914119, -0.60872576],\n",
       "       [ 0.72611318,  0.        ,  1.34354561, ...,  0.74457553,\n",
       "        -0.65914119, -0.60872576]])"
      ]
     },
     "execution_count": 157,
     "metadata": {},
     "output_type": "execute_result"
    }
   ],
   "source": [
    "#----------------------------1st iteration-------------------------------------\n",
    "from sklearn.preprocessing import power_transform,PowerTransformer\n",
    "import warnings\n",
    "warnings.filterwarnings('ignore')\n",
    "pt=PowerTransformer()\n",
    "x_new_pt=pt.fit_transform(xo)\n",
    "x_new_pt"
   ]
  },
  {
   "cell_type": "code",
   "execution_count": 158,
   "id": "ecabb6a3",
   "metadata": {},
   "outputs": [
    {
     "data": {
      "text/plain": [
       "array([[-1.95093884,  0.        , -0.01089209, ..., -0.10196924,\n",
       "        -0.65914119, -0.60872576],\n",
       "       [-1.94250344,  0.        ,  0.25708663, ..., -0.95368244,\n",
       "        -0.65914119, -0.60872576],\n",
       "       [-1.93357753,  0.        , -0.1297609 , ..., -1.00505988,\n",
       "        -0.65914119, -0.60872576],\n",
       "       ...,\n",
       "       [ 0.8472405 ,  0.        ,  1.04954111, ..., -0.60500732,\n",
       "         1.48178245, -0.60872576],\n",
       "       [ 0.7606431 ,  0.        ,  0.91189083, ...,  0.92359778,\n",
       "        -0.65914119, -0.60872576],\n",
       "       [ 0.72611318,  0.        ,  1.34354561, ...,  0.74457553,\n",
       "        -0.65914119, -0.60872576]])"
      ]
     },
     "execution_count": 158,
     "metadata": {},
     "output_type": "execute_result"
    }
   ],
   "source": [
    "x_new=power_transform(xo)\n",
    "x_new"
   ]
  },
  {
   "cell_type": "code",
   "execution_count": 159,
   "id": "ac2fcefd",
   "metadata": {},
   "outputs": [
    {
     "data": {
      "text/plain": [
       "Iron                1.101963\n",
       "Barium              0.942700\n",
       "Potassium           0.121970\n",
       "Silicon             0.099152\n",
       "Sodium              0.006180\n",
       "Aluminum            0.003863\n",
       "Refractive_index    0.000000\n",
       "Calcium            -0.116140\n",
       "Magnesium          -0.294336\n",
       "ID Number          -0.528079\n",
       "dtype: float64"
      ]
     },
     "execution_count": 159,
     "metadata": {},
     "output_type": "execute_result"
    }
   ],
   "source": [
    "#Normal distribution=0---->Checking skewness after power transform\n",
    "pd.DataFrame(x_new,columns=xo.columns).skew().sort_values(ascending=False)"
   ]
  },
  {
   "cell_type": "markdown",
   "id": "2de0559b",
   "metadata": {},
   "source": [
    "After the power transform we can see that the skewness has been reduced with maximum as 0.9842 to minimum as -0.525527"
   ]
  },
  {
   "cell_type": "code",
   "execution_count": 160,
   "id": "c46e8f24",
   "metadata": {},
   "outputs": [],
   "source": [
    "xo=pd.DataFrame(x_new,columns=xo.columns)"
   ]
  },
  {
   "cell_type": "code",
   "execution_count": 161,
   "id": "174ac8cd",
   "metadata": {},
   "outputs": [
    {
     "data": {
      "text/plain": [
       "Iron                1.101963\n",
       "Barium              0.942700\n",
       "Potassium           0.121970\n",
       "Silicon             0.099152\n",
       "Sodium              0.006180\n",
       "Aluminum            0.003863\n",
       "Refractive_index    0.000000\n",
       "Calcium            -0.116140\n",
       "Magnesium          -0.294336\n",
       "ID Number          -0.528079\n",
       "dtype: float64"
      ]
     },
     "execution_count": 161,
     "metadata": {},
     "output_type": "execute_result"
    }
   ],
   "source": [
    "xo.skew().sort_values(ascending=False)   # Validating the skewness after transformations"
   ]
  },
  {
   "cell_type": "code",
   "execution_count": 162,
   "id": "51769a67",
   "metadata": {},
   "outputs": [
    {
     "data": {
      "text/plain": [
       "array([[-1.62430585,  0.        , -0.00361938, ..., -0.09622609,\n",
       "        -0.6803129 , -0.62589269],\n",
       "       [-1.61980821,  0.        ,  0.26372289, ..., -0.9540569 ,\n",
       "        -0.6803129 , -0.62589269],\n",
       "       [-1.61504033,  0.        , -0.12265504, ..., -1.0060546 ,\n",
       "        -0.6803129 , -0.62589269],\n",
       "       ...,\n",
       "       [ 0.86483995,  0.        ,  1.04806293, ..., -0.60185101,\n",
       "         1.50482094, -0.62589269],\n",
       "       [ 0.73482078,  0.        ,  0.91236257, ...,  0.92332821,\n",
       "        -0.6803129 , -0.62589269],\n",
       "       [ 0.68406151,  0.        ,  1.33728095, ...,  0.74625665,\n",
       "        -0.6803129 , -0.62589269]])"
      ]
     },
     "execution_count": 162,
     "metadata": {},
     "output_type": "execute_result"
    }
   ],
   "source": [
    "# We shall try to reduce skewness again , using power transform()---------------------------2nd iteration-------------------\n",
    "from sklearn.preprocessing import power_transform,PowerTransformer\n",
    "import warnings\n",
    "warnings.filterwarnings('ignore')\n",
    "pt=PowerTransformer()\n",
    "x_new_pt=pt.fit_transform(xo)\n",
    "x_new_pt"
   ]
  },
  {
   "cell_type": "code",
   "execution_count": 163,
   "id": "3e7a47c5",
   "metadata": {},
   "outputs": [
    {
     "data": {
      "text/plain": [
       "Iron                1.000717\n",
       "Barium              0.812765\n",
       "Silicon             0.142134\n",
       "Potassium           0.095418\n",
       "Refractive_index    0.000000\n",
       "Sodium             -0.045153\n",
       "Aluminum           -0.050028\n",
       "ID Number          -0.154527\n",
       "Magnesium          -0.167808\n",
       "Calcium            -0.191446\n",
       "dtype: float64"
      ]
     },
     "execution_count": 163,
     "metadata": {},
     "output_type": "execute_result"
    }
   ],
   "source": [
    "#Normal distribution=0---->Checking skewness after power transform\n",
    "pd.DataFrame(x_new_pt,columns=xo.columns).skew().sort_values(ascending=False)"
   ]
  },
  {
   "cell_type": "code",
   "execution_count": 164,
   "id": "01e1287a",
   "metadata": {},
   "outputs": [],
   "source": [
    "xo=pd.DataFrame(x_new_pt,columns=xo.columns)"
   ]
  },
  {
   "cell_type": "code",
   "execution_count": 165,
   "id": "3f772d51",
   "metadata": {},
   "outputs": [
    {
     "data": {
      "text/plain": [
       "Iron                1.000717\n",
       "Barium              0.812765\n",
       "Silicon             0.142134\n",
       "Potassium           0.095418\n",
       "Refractive_index    0.000000\n",
       "Sodium             -0.045153\n",
       "Aluminum           -0.050028\n",
       "ID Number          -0.154527\n",
       "Magnesium          -0.167808\n",
       "Calcium            -0.191446\n",
       "dtype: float64"
      ]
     },
     "execution_count": 165,
     "metadata": {},
     "output_type": "execute_result"
    }
   ],
   "source": [
    "xo.skew().sort_values(ascending=False)   # Validating the skewness after transformations"
   ]
  },
  {
   "cell_type": "code",
   "execution_count": 166,
   "id": "80a84496",
   "metadata": {},
   "outputs": [
    {
     "data": {
      "text/plain": [
       "array([[-1.53744925,  0.        , -0.00375347, ..., -0.09696208,\n",
       "        -0.68408831, -0.63390813],\n",
       "       [-1.53369913,  0.        ,  0.26360177, ..., -0.95402948,\n",
       "        -0.68408831, -0.63390813],\n",
       "       [-1.52972233,  0.        , -0.12278663, ..., -1.00594846,\n",
       "        -0.68408831, -0.63390813],\n",
       "       ...,\n",
       "       [ 0.85657742,  0.        ,  1.04809305, ..., -0.60226934,\n",
       "         1.47646224, -0.63390813],\n",
       "       [ 0.7104675 ,  0.        ,  0.9123567 , ...,  0.92338393,\n",
       "        -0.68408831, -0.63390813],\n",
       "       [ 0.65398742,  0.        ,  1.33739909, ...,  0.74606086,\n",
       "        -0.68408831, -0.63390813]])"
      ]
     },
     "execution_count": 166,
     "metadata": {},
     "output_type": "execute_result"
    }
   ],
   "source": [
    "# We shall try to reduce skewness again , using power transform()---------------------------3rd  iteration-------------------\n",
    "from sklearn.preprocessing import power_transform,PowerTransformer\n",
    "import warnings\n",
    "warnings.filterwarnings('ignore')\n",
    "pt=PowerTransformer()\n",
    "x_new_pt=pt.fit_transform(xo)\n",
    "x_new_pt"
   ]
  },
  {
   "cell_type": "code",
   "execution_count": 167,
   "id": "f24f6e02",
   "metadata": {},
   "outputs": [
    {
     "data": {
      "text/plain": [
       "Iron                0.957899\n",
       "Barium              0.783386\n",
       "Silicon             0.137400\n",
       "Potassium           0.088672\n",
       "Refractive_index    0.000000\n",
       "ID Number          -0.031935\n",
       "Sodium             -0.044205\n",
       "Aluminum           -0.048305\n",
       "Magnesium          -0.091540\n",
       "Calcium            -0.181749\n",
       "dtype: float64"
      ]
     },
     "execution_count": 167,
     "metadata": {},
     "output_type": "execute_result"
    }
   ],
   "source": [
    "#Normal distribution=0---->Checking skewness after power transform\n",
    "pd.DataFrame(x_new_pt,columns=xo.columns).skew().sort_values(ascending=False)"
   ]
  },
  {
   "cell_type": "code",
   "execution_count": 168,
   "id": "553120ce",
   "metadata": {},
   "outputs": [],
   "source": [
    "xo=pd.DataFrame(x_new_pt,columns=xo.columns)"
   ]
  },
  {
   "cell_type": "code",
   "execution_count": 169,
   "id": "4d256071",
   "metadata": {},
   "outputs": [
    {
     "data": {
      "text/plain": [
       "Iron                0.957899\n",
       "Barium              0.783386\n",
       "Silicon             0.137400\n",
       "Potassium           0.088672\n",
       "Refractive_index    0.000000\n",
       "ID Number          -0.031935\n",
       "Sodium             -0.044205\n",
       "Aluminum           -0.048305\n",
       "Magnesium          -0.091540\n",
       "Calcium            -0.181749\n",
       "dtype: float64"
      ]
     },
     "execution_count": 169,
     "metadata": {},
     "output_type": "execute_result"
    }
   ],
   "source": [
    "xo.skew().sort_values(ascending=False)   # Validating the skewness after transformations"
   ]
  },
  {
   "cell_type": "markdown",
   "id": "9d9f4b7b",
   "metadata": {},
   "source": [
    "# Checking for Outliers"
   ]
  },
  {
   "cell_type": "markdown",
   "id": "a851ae2e",
   "metadata": {},
   "source": [
    "the acceptable range is from +3 to -3 , anything above/below this range is considered as outliers"
   ]
  },
  {
   "cell_type": "code",
   "execution_count": 170,
   "id": "221d66de",
   "metadata": {},
   "outputs": [
    {
     "data": {
      "image/png": "[encoded data removed]",
      "text/plain": [
       "<Figure size 1440x576 with 1 Axes>"
      ]
     },
     "metadata": {
      "needs_background": "light"
     },
     "output_type": "display_data"
    }
   ],
   "source": [
    "xo.iloc[:,0:10].boxplot(figsize=[20,8])\n",
    "plt.subplots_adjust(bottom=0.25)\n",
    "plt.show()"
   ]
  },
  {
   "cell_type": "markdown",
   "id": "cb0d1c6f",
   "metadata": {},
   "source": [
    "# Removing outliers"
   ]
  },
  {
   "cell_type": "code",
   "execution_count": 177,
   "id": "bc611c86",
   "metadata": {},
   "outputs": [
    {
     "data": {
      "text/plain": [
       "(326, 10)"
      ]
     },
     "execution_count": 177,
     "metadata": {},
     "output_type": "execute_result"
    }
   ],
   "source": [
    "xo.shape"
   ]
  },
  {
   "cell_type": "code",
   "execution_count": 178,
   "id": "ac3fabb8",
   "metadata": {},
   "outputs": [
    {
     "data": {
      "text/plain": [
       "(326, 10)"
      ]
     },
     "execution_count": 178,
     "metadata": {},
     "output_type": "execute_result"
    }
   ],
   "source": [
    "#using zscore technique , we shall use the values of xo(the new values after oversampling) \n",
    "from scipy.stats import zscore\n",
    "z=np.abs(zscore(xo))\n",
    "z.shape"
   ]
  },
  {
   "cell_type": "code",
   "execution_count": 179,
   "id": "1356346e",
   "metadata": {},
   "outputs": [
    {
     "name": "stdout",
     "output_type": "stream",
     "text": [
      "(array([106, 107, 111, 111, 163, 166, 184, 184, 185, 186, 201, 285, 285,\n",
      "       318], dtype=int64), array([2, 7, 2, 7, 7, 2, 2, 5, 7, 7, 5, 2, 5, 7], dtype=int64))\n"
     ]
    }
   ],
   "source": [
    "threshold=3\n",
    "print(np.where(z>3))"
   ]
  },
  {
   "cell_type": "code",
   "execution_count": 180,
   "id": "e426235d",
   "metadata": {},
   "outputs": [],
   "source": [
    "xo_new=xo[(z<3).all(axis=1)]"
   ]
  },
  {
   "cell_type": "code",
   "execution_count": 182,
   "id": "3f257610",
   "metadata": {},
   "outputs": [
    {
     "data": {
      "text/plain": [
       "True"
      ]
     },
     "execution_count": 182,
     "metadata": {},
     "output_type": "execute_result"
    }
   ],
   "source": [
    "(np.abs(zscore(xo))).all().all()"
   ]
  },
  {
   "cell_type": "code",
   "execution_count": 183,
   "id": "e24ed64b",
   "metadata": {},
   "outputs": [
    {
     "data": {
      "text/plain": [
       "False"
      ]
     },
     "execution_count": 183,
     "metadata": {},
     "output_type": "execute_result"
    }
   ],
   "source": [
    "(np.abs(zscore(x))<3).all().all()"
   ]
  },
  {
   "cell_type": "markdown",
   "id": "6f08ade2",
   "metadata": {},
   "source": [
    "The above result shows that outliers are present in columns -----> Calcium and Silicon , and hence we can drop those columns"
   ]
  },
  {
   "cell_type": "code",
   "execution_count": 186,
   "id": "3daffef2",
   "metadata": {},
   "outputs": [
    {
     "data": {
      "text/plain": [
       "(326, 10)"
      ]
     },
     "execution_count": 186,
     "metadata": {},
     "output_type": "execute_result"
    }
   ],
   "source": [
    "xo.shape"
   ]
  },
  {
   "cell_type": "code",
   "execution_count": 187,
   "id": "99cacb42",
   "metadata": {},
   "outputs": [
    {
     "data": {
      "text/plain": [
       "(326,)"
      ]
     },
     "execution_count": 187,
     "metadata": {},
     "output_type": "execute_result"
    }
   ],
   "source": [
    "yo.shape"
   ]
  },
  {
   "cell_type": "code",
   "execution_count": 188,
   "id": "71915ba0",
   "metadata": {},
   "outputs": [],
   "source": [
    "xo=xo.drop(['Calcium','Silicon'],axis=1)"
   ]
  },
  {
   "cell_type": "code",
   "execution_count": 189,
   "id": "93c29253",
   "metadata": {},
   "outputs": [
    {
     "data": {
      "text/html": [
       "<div>\n",
       "<style scoped>\n",
       "    .dataframe tbody tr th:only-of-type {\n",
       "        vertical-align: middle;\n",
       "    }\n",
       "\n",
       "    .dataframe tbody tr th {\n",
       "        vertical-align: top;\n",
       "    }\n",
       "\n",
       "    .dataframe thead th {\n",
       "        text-align: right;\n",
       "    }\n",
       "</style>\n",
       "<table border=\"1\" class=\"dataframe\">\n",
       "  <thead>\n",
       "    <tr style=\"text-align: right;\">\n",
       "      <th></th>\n",
       "      <th>ID Number</th>\n",
       "      <th>Refractive_index</th>\n",
       "      <th>Sodium</th>\n",
       "      <th>Magnesium</th>\n",
       "      <th>Aluminum</th>\n",
       "      <th>Potassium</th>\n",
       "      <th>Barium</th>\n",
       "      <th>Iron</th>\n",
       "    </tr>\n",
       "  </thead>\n",
       "  <tbody>\n",
       "    <tr>\n",
       "      <th>0</th>\n",
       "      <td>-1.537449</td>\n",
       "      <td>0.0</td>\n",
       "      <td>-0.003753</td>\n",
       "      <td>1.913696</td>\n",
       "      <td>-0.949759</td>\n",
       "      <td>-0.917116</td>\n",
       "      <td>-0.684088</td>\n",
       "      <td>-0.633908</td>\n",
       "    </tr>\n",
       "    <tr>\n",
       "      <th>1</th>\n",
       "      <td>-1.533699</td>\n",
       "      <td>0.0</td>\n",
       "      <td>0.263602</td>\n",
       "      <td>1.035877</td>\n",
       "      <td>-0.423136</td>\n",
       "      <td>0.506263</td>\n",
       "      <td>-0.684088</td>\n",
       "      <td>-0.633908</td>\n",
       "    </tr>\n",
       "    <tr>\n",
       "      <th>2</th>\n",
       "      <td>-1.529722</td>\n",
       "      <td>0.0</td>\n",
       "      <td>-0.122787</td>\n",
       "      <td>0.990126</td>\n",
       "      <td>-0.083063</td>\n",
       "      <td>0.291473</td>\n",
       "      <td>-0.684088</td>\n",
       "      <td>-0.633908</td>\n",
       "    </tr>\n",
       "    <tr>\n",
       "      <th>3</th>\n",
       "      <td>-1.525565</td>\n",
       "      <td>0.0</td>\n",
       "      <td>-0.473888</td>\n",
       "      <td>1.119230</td>\n",
       "      <td>-0.560599</td>\n",
       "      <td>0.690679</td>\n",
       "      <td>-0.684088</td>\n",
       "      <td>-0.633908</td>\n",
       "    </tr>\n",
       "    <tr>\n",
       "      <th>4</th>\n",
       "      <td>-1.521256</td>\n",
       "      <td>0.0</td>\n",
       "      <td>-0.407518</td>\n",
       "      <td>1.054289</td>\n",
       "      <td>-0.660677</td>\n",
       "      <td>0.651998</td>\n",
       "      <td>-0.684088</td>\n",
       "      <td>-0.633908</td>\n",
       "    </tr>\n",
       "    <tr>\n",
       "      <th>...</th>\n",
       "      <td>...</td>\n",
       "      <td>...</td>\n",
       "      <td>...</td>\n",
       "      <td>...</td>\n",
       "      <td>...</td>\n",
       "      <td>...</td>\n",
       "      <td>...</td>\n",
       "      <td>...</td>\n",
       "    </tr>\n",
       "    <tr>\n",
       "      <th>321</th>\n",
       "      <td>0.886645</td>\n",
       "      <td>0.0</td>\n",
       "      <td>2.052689</td>\n",
       "      <td>-0.278675</td>\n",
       "      <td>-0.316443</td>\n",
       "      <td>0.247543</td>\n",
       "      <td>1.487569</td>\n",
       "      <td>-0.633908</td>\n",
       "    </tr>\n",
       "    <tr>\n",
       "      <th>322</th>\n",
       "      <td>0.978544</td>\n",
       "      <td>0.0</td>\n",
       "      <td>1.033804</td>\n",
       "      <td>-1.198198</td>\n",
       "      <td>1.501526</td>\n",
       "      <td>-1.170706</td>\n",
       "      <td>1.472450</td>\n",
       "      <td>1.597126</td>\n",
       "    </tr>\n",
       "    <tr>\n",
       "      <th>323</th>\n",
       "      <td>0.856577</td>\n",
       "      <td>0.0</td>\n",
       "      <td>1.048093</td>\n",
       "      <td>0.217079</td>\n",
       "      <td>0.906991</td>\n",
       "      <td>1.337654</td>\n",
       "      <td>1.476462</td>\n",
       "      <td>-0.633908</td>\n",
       "    </tr>\n",
       "    <tr>\n",
       "      <th>324</th>\n",
       "      <td>0.710468</td>\n",
       "      <td>0.0</td>\n",
       "      <td>0.912357</td>\n",
       "      <td>-0.968542</td>\n",
       "      <td>-1.502741</td>\n",
       "      <td>-1.249426</td>\n",
       "      <td>-0.684088</td>\n",
       "      <td>-0.633908</td>\n",
       "    </tr>\n",
       "    <tr>\n",
       "      <th>325</th>\n",
       "      <td>0.653987</td>\n",
       "      <td>0.0</td>\n",
       "      <td>1.337399</td>\n",
       "      <td>-0.772822</td>\n",
       "      <td>0.251248</td>\n",
       "      <td>-1.249426</td>\n",
       "      <td>-0.684088</td>\n",
       "      <td>-0.633908</td>\n",
       "    </tr>\n",
       "  </tbody>\n",
       "</table>\n",
       "<p>326 rows × 8 columns</p>\n",
       "</div>"
      ],
      "text/plain": [
       "     ID Number  Refractive_index    Sodium  Magnesium  Aluminum  Potassium  \\\n",
       "0    -1.537449               0.0 -0.003753   1.913696 -0.949759  -0.917116   \n",
       "1    -1.533699               0.0  0.263602   1.035877 -0.423136   0.506263   \n",
       "2    -1.529722               0.0 -0.122787   0.990126 -0.083063   0.291473   \n",
       "3    -1.525565               0.0 -0.473888   1.119230 -0.560599   0.690679   \n",
       "4    -1.521256               0.0 -0.407518   1.054289 -0.660677   0.651998   \n",
       "..         ...               ...       ...        ...       ...        ...   \n",
       "321   0.886645               0.0  2.052689  -0.278675 -0.316443   0.247543   \n",
       "322   0.978544               0.0  1.033804  -1.198198  1.501526  -1.170706   \n",
       "323   0.856577               0.0  1.048093   0.217079  0.906991   1.337654   \n",
       "324   0.710468               0.0  0.912357  -0.968542 -1.502741  -1.249426   \n",
       "325   0.653987               0.0  1.337399  -0.772822  0.251248  -1.249426   \n",
       "\n",
       "       Barium      Iron  \n",
       "0   -0.684088 -0.633908  \n",
       "1   -0.684088 -0.633908  \n",
       "2   -0.684088 -0.633908  \n",
       "3   -0.684088 -0.633908  \n",
       "4   -0.684088 -0.633908  \n",
       "..        ...       ...  \n",
       "321  1.487569 -0.633908  \n",
       "322  1.472450  1.597126  \n",
       "323  1.476462 -0.633908  \n",
       "324 -0.684088 -0.633908  \n",
       "325 -0.684088 -0.633908  \n",
       "\n",
       "[326 rows x 8 columns]"
      ]
     },
     "execution_count": 189,
     "metadata": {},
     "output_type": "execute_result"
    }
   ],
   "source": [
    "xo"
   ]
  },
  {
   "cell_type": "code",
   "execution_count": 190,
   "id": "69016cba",
   "metadata": {},
   "outputs": [
    {
     "data": {
      "text/plain": [
       "(326, 8)"
      ]
     },
     "execution_count": 190,
     "metadata": {},
     "output_type": "execute_result"
    }
   ],
   "source": [
    "xo.shape"
   ]
  },
  {
   "cell_type": "code",
   "execution_count": 192,
   "id": "f5a3b90c",
   "metadata": {},
   "outputs": [
    {
     "data": {
      "text/plain": [
       "(326,)"
      ]
     },
     "execution_count": 192,
     "metadata": {},
     "output_type": "execute_result"
    }
   ],
   "source": [
    "yo.shape"
   ]
  },
  {
   "cell_type": "markdown",
   "id": "4ba4a161",
   "metadata": {},
   "source": [
    "# Finding the best random state"
   ]
  },
  {
   "cell_type": "code",
   "execution_count": 193,
   "id": "00c4c662",
   "metadata": {},
   "outputs": [],
   "source": [
    "#Finding the best random state\n",
    "from sklearn.linear_model import LogisticRegression\n",
    "from sklearn.metrics  import accuracy_score\n",
    "from sklearn.metrics import confusion_matrix,classification_report\n",
    "from sklearn.model_selection import train_test_split"
   ]
  },
  {
   "cell_type": "code",
   "execution_count": 195,
   "id": "9c67c3d8",
   "metadata": {},
   "outputs": [
    {
     "name": "stdout",
     "output_type": "stream",
     "text": [
      "Testing accuracy 0.9848484848484849 random-state 1\n",
      "max-accuracy 0.9848484848484849 max-random-state 1\n",
      "Best accuracy is  0.9848484848484849 on random-state 1\n",
      "Testing accuracy 1.0 random-state 2\n",
      "max-accuracy 1.0 max-random-state 2\n",
      "Best accuracy is  1.0 on random-state 2\n",
      "Testing accuracy 1.0 random-state 3\n",
      "Testing accuracy 1.0 random-state 4\n",
      "Testing accuracy 1.0 random-state 5\n",
      "Testing accuracy 1.0 random-state 6\n",
      "Testing accuracy 1.0 random-state 7\n",
      "Testing accuracy 1.0 random-state 8\n",
      "Testing accuracy 1.0 random-state 9\n",
      "Testing accuracy 1.0 random-state 10\n",
      "Testing accuracy 1.0 random-state 11\n",
      "Testing accuracy 1.0 random-state 12\n",
      "Testing accuracy 1.0 random-state 13\n",
      "Testing accuracy 1.0 random-state 14\n",
      "Testing accuracy 1.0 random-state 15\n",
      "Testing accuracy 1.0 random-state 16\n",
      "Testing accuracy 1.0 random-state 17\n",
      "Testing accuracy 1.0 random-state 18\n",
      "Testing accuracy 1.0 random-state 19\n",
      "Testing accuracy 1.0 random-state 20\n",
      "Testing accuracy 1.0 random-state 21\n",
      "Testing accuracy 1.0 random-state 22\n",
      "Testing accuracy 1.0 random-state 23\n",
      "Testing accuracy 1.0 random-state 24\n",
      "Testing accuracy 1.0 random-state 25\n",
      "Testing accuracy 1.0 random-state 26\n",
      "Testing accuracy 1.0 random-state 27\n",
      "Testing accuracy 1.0 random-state 28\n",
      "Testing accuracy 1.0 random-state 29\n",
      "Testing accuracy 1.0 random-state 30\n",
      "Testing accuracy 0.9848484848484849 random-state 31\n",
      "Testing accuracy 0.9848484848484849 random-state 32\n",
      "Testing accuracy 1.0 random-state 33\n",
      "Testing accuracy 1.0 random-state 34\n",
      "Testing accuracy 1.0 random-state 35\n",
      "Testing accuracy 0.9696969696969697 random-state 36\n",
      "Testing accuracy 0.9848484848484849 random-state 37\n",
      "Testing accuracy 1.0 random-state 38\n",
      "Testing accuracy 0.9696969696969697 random-state 39\n",
      "Testing accuracy 1.0 random-state 40\n",
      "Testing accuracy 1.0 random-state 41\n",
      "Testing accuracy 1.0 random-state 42\n",
      "Testing accuracy 1.0 random-state 43\n",
      "Testing accuracy 1.0 random-state 44\n",
      "Testing accuracy 1.0 random-state 45\n",
      "Testing accuracy 0.9696969696969697 random-state 46\n",
      "Testing accuracy 1.0 random-state 47\n",
      "Testing accuracy 1.0 random-state 48\n",
      "Testing accuracy 1.0 random-state 49\n",
      "Testing accuracy 1.0 random-state 50\n",
      "Testing accuracy 1.0 random-state 51\n",
      "Testing accuracy 1.0 random-state 52\n",
      "Testing accuracy 1.0 random-state 53\n",
      "Testing accuracy 1.0 random-state 54\n",
      "Testing accuracy 1.0 random-state 55\n",
      "Testing accuracy 1.0 random-state 56\n",
      "Testing accuracy 1.0 random-state 57\n",
      "Testing accuracy 0.9696969696969697 random-state 58\n",
      "Testing accuracy 1.0 random-state 59\n",
      "Testing accuracy 1.0 random-state 60\n",
      "Testing accuracy 1.0 random-state 61\n",
      "Testing accuracy 1.0 random-state 62\n",
      "Testing accuracy 1.0 random-state 63\n",
      "Testing accuracy 1.0 random-state 64\n",
      "Testing accuracy 1.0 random-state 65\n",
      "Testing accuracy 1.0 random-state 66\n",
      "Testing accuracy 1.0 random-state 67\n",
      "Testing accuracy 1.0 random-state 68\n",
      "Testing accuracy 1.0 random-state 69\n",
      "Testing accuracy 1.0 random-state 70\n",
      "Testing accuracy 1.0 random-state 71\n",
      "Testing accuracy 1.0 random-state 72\n",
      "Testing accuracy 1.0 random-state 73\n",
      "Testing accuracy 1.0 random-state 74\n",
      "Testing accuracy 1.0 random-state 75\n",
      "Testing accuracy 1.0 random-state 76\n",
      "Testing accuracy 1.0 random-state 77\n",
      "Testing accuracy 1.0 random-state 78\n",
      "Testing accuracy 1.0 random-state 79\n",
      "Testing accuracy 1.0 random-state 80\n",
      "Testing accuracy 1.0 random-state 81\n",
      "Testing accuracy 1.0 random-state 82\n",
      "Testing accuracy 1.0 random-state 83\n",
      "Testing accuracy 1.0 random-state 84\n",
      "Testing accuracy 1.0 random-state 85\n",
      "Testing accuracy 1.0 random-state 86\n",
      "Testing accuracy 1.0 random-state 87\n",
      "Testing accuracy 1.0 random-state 88\n",
      "Testing accuracy 1.0 random-state 89\n",
      "Testing accuracy 1.0 random-state 90\n",
      "Testing accuracy 1.0 random-state 91\n",
      "Testing accuracy 0.9696969696969697 random-state 92\n",
      "Testing accuracy 0.9696969696969697 random-state 93\n",
      "Testing accuracy 1.0 random-state 94\n",
      "Testing accuracy 1.0 random-state 95\n",
      "Testing accuracy 1.0 random-state 96\n",
      "Testing accuracy 1.0 random-state 97\n",
      "Testing accuracy 1.0 random-state 98\n",
      "Testing accuracy 1.0 random-state 99\n",
      "Testing accuracy 1.0 random-state 100\n",
      "Testing accuracy 1.0 random-state 101\n",
      "Testing accuracy 1.0 random-state 102\n",
      "Testing accuracy 1.0 random-state 103\n",
      "Testing accuracy 1.0 random-state 104\n",
      "Testing accuracy 1.0 random-state 105\n",
      "Testing accuracy 1.0 random-state 106\n",
      "Testing accuracy 1.0 random-state 107\n",
      "Testing accuracy 1.0 random-state 108\n",
      "Testing accuracy 1.0 random-state 109\n",
      "Testing accuracy 0.9696969696969697 random-state 110\n",
      "Testing accuracy 1.0 random-state 111\n",
      "Testing accuracy 0.9848484848484849 random-state 112\n",
      "Testing accuracy 1.0 random-state 113\n",
      "Testing accuracy 1.0 random-state 114\n",
      "Testing accuracy 1.0 random-state 115\n",
      "Testing accuracy 1.0 random-state 116\n",
      "Testing accuracy 1.0 random-state 117\n",
      "Testing accuracy 1.0 random-state 118\n",
      "Testing accuracy 1.0 random-state 119\n",
      "Testing accuracy 1.0 random-state 120\n",
      "Testing accuracy 1.0 random-state 121\n",
      "Testing accuracy 1.0 random-state 122\n",
      "Testing accuracy 1.0 random-state 123\n",
      "Testing accuracy 1.0 random-state 124\n",
      "Testing accuracy 1.0 random-state 125\n",
      "Testing accuracy 1.0 random-state 126\n",
      "Testing accuracy 1.0 random-state 127\n",
      "Testing accuracy 1.0 random-state 128\n",
      "Testing accuracy 0.9696969696969697 random-state 129\n",
      "Testing accuracy 0.9696969696969697 random-state 130\n",
      "Testing accuracy 1.0 random-state 131\n",
      "Testing accuracy 1.0 random-state 132\n",
      "Testing accuracy 1.0 random-state 133\n",
      "Testing accuracy 1.0 random-state 134\n",
      "Testing accuracy 1.0 random-state 135\n",
      "Testing accuracy 0.9848484848484849 random-state 136\n",
      "Testing accuracy 1.0 random-state 137\n",
      "Testing accuracy 1.0 random-state 138\n",
      "Testing accuracy 1.0 random-state 139\n",
      "Testing accuracy 1.0 random-state 140\n",
      "Testing accuracy 1.0 random-state 141\n",
      "Testing accuracy 1.0 random-state 142\n",
      "Testing accuracy 1.0 random-state 143\n",
      "Testing accuracy 1.0 random-state 144\n",
      "Testing accuracy 1.0 random-state 145\n",
      "Testing accuracy 1.0 random-state 146\n",
      "Testing accuracy 1.0 random-state 147\n",
      "Testing accuracy 1.0 random-state 148\n",
      "Testing accuracy 1.0 random-state 149\n",
      "Testing accuracy 1.0 random-state 150\n",
      "Testing accuracy 1.0 random-state 151\n",
      "Testing accuracy 1.0 random-state 152\n",
      "Testing accuracy 1.0 random-state 153\n",
      "Testing accuracy 1.0 random-state 154\n",
      "Testing accuracy 1.0 random-state 155\n",
      "Testing accuracy 1.0 random-state 156\n",
      "Testing accuracy 1.0 random-state 157\n",
      "Testing accuracy 1.0 random-state 158\n",
      "Testing accuracy 1.0 random-state 159\n",
      "Testing accuracy 1.0 random-state 160\n",
      "Testing accuracy 1.0 random-state 161\n",
      "Testing accuracy 1.0 random-state 162\n",
      "Testing accuracy 1.0 random-state 163\n",
      "Testing accuracy 1.0 random-state 164\n",
      "Testing accuracy 1.0 random-state 165\n",
      "Testing accuracy 0.9696969696969697 random-state 166\n",
      "Testing accuracy 1.0 random-state 167\n",
      "Testing accuracy 1.0 random-state 168\n",
      "Testing accuracy 1.0 random-state 169\n",
      "Testing accuracy 1.0 random-state 170\n",
      "Testing accuracy 1.0 random-state 171\n",
      "Testing accuracy 1.0 random-state 172\n",
      "Testing accuracy 1.0 random-state 173\n",
      "Testing accuracy 1.0 random-state 174\n",
      "Testing accuracy 1.0 random-state 175\n",
      "Testing accuracy 1.0 random-state 176\n",
      "Testing accuracy 1.0 random-state 177\n",
      "Testing accuracy 1.0 random-state 178\n",
      "Testing accuracy 1.0 random-state 179\n",
      "Testing accuracy 1.0 random-state 180\n",
      "Testing accuracy 1.0 random-state 181\n",
      "Testing accuracy 1.0 random-state 182\n",
      "Testing accuracy 0.9848484848484849 random-state 183\n",
      "Testing accuracy 1.0 random-state 184\n",
      "Testing accuracy 1.0 random-state 185\n",
      "Testing accuracy 1.0 random-state 186\n",
      "Testing accuracy 1.0 random-state 187\n",
      "Testing accuracy 1.0 random-state 188\n",
      "Testing accuracy 1.0 random-state 189\n",
      "Testing accuracy 1.0 random-state 190\n",
      "Testing accuracy 1.0 random-state 191\n",
      "Testing accuracy 1.0 random-state 192\n",
      "Testing accuracy 1.0 random-state 193\n",
      "Testing accuracy 1.0 random-state 194\n",
      "Testing accuracy 1.0 random-state 195\n",
      "Testing accuracy 0.9696969696969697 random-state 196\n",
      "Testing accuracy 1.0 random-state 197\n",
      "Testing accuracy 1.0 random-state 198\n",
      "Testing accuracy 1.0 random-state 199\n"
     ]
    }
   ],
   "source": [
    "from sklearn.tree import DecisionTreeClassifier\n",
    "maxAccu=0\n",
    "maxRs=0\n",
    "for i in range(1,200):\n",
    "    x_train,x_test,y_train,y_test=train_test_split(xo,yo,test_size=.20,random_state=i)\n",
    "    dt=DecisionTreeClassifier()\n",
    "    dt.fit(x_train,y_train)\n",
    "    predrf=dt.predict(x_test)\n",
    "    acc=accuracy_score(y_test,predrf)\n",
    "    print('Testing accuracy',acc,'random-state',i)\n",
    "    if acc>maxAccu:\n",
    "        maxAccu=acc\n",
    "        maxRs=i\n",
    "        print('max-accuracy',maxAccu,'max-random-state',i)\n",
    "        print(\"Best accuracy is \",maxAccu,\"on random-state\",maxRs)"
   ]
  },
  {
   "cell_type": "code",
   "execution_count": 196,
   "id": "35a9d77d",
   "metadata": {},
   "outputs": [
    {
     "data": {
      "text/plain": [
       "(66, 8)"
      ]
     },
     "execution_count": 196,
     "metadata": {},
     "output_type": "execute_result"
    }
   ],
   "source": [
    "#Creating train_test_split\n",
    "x_train,x_test,y_train,y_test=train_test_split(xo,yo,test_size=.20,random_state=1)\n",
    "x_test.shape"
   ]
  },
  {
   "cell_type": "code",
   "execution_count": 197,
   "id": "76afe71c",
   "metadata": {},
   "outputs": [
    {
     "data": {
      "text/plain": [
       "(66,)"
      ]
     },
     "execution_count": 197,
     "metadata": {},
     "output_type": "execute_result"
    }
   ],
   "source": [
    "y_test.shape"
   ]
  },
  {
   "cell_type": "code",
   "execution_count": 198,
   "id": "e855f904",
   "metadata": {},
   "outputs": [
    {
     "data": {
      "text/plain": [
       "(260, 8)"
      ]
     },
     "execution_count": 198,
     "metadata": {},
     "output_type": "execute_result"
    }
   ],
   "source": [
    "x_train.shape"
   ]
  },
  {
   "cell_type": "code",
   "execution_count": 199,
   "id": "e0345d14",
   "metadata": {},
   "outputs": [
    {
     "data": {
      "text/plain": [
       "(260,)"
      ]
     },
     "execution_count": 199,
     "metadata": {},
     "output_type": "execute_result"
    }
   ],
   "source": [
    "y_train.shape"
   ]
  },
  {
   "cell_type": "markdown",
   "id": "ca9a4db7",
   "metadata": {},
   "source": [
    "# Logistic Regression"
   ]
  },
  {
   "cell_type": "code",
   "execution_count": 203,
   "id": "9d942c39",
   "metadata": {},
   "outputs": [
    {
     "name": "stdout",
     "output_type": "stream",
     "text": [
      "Accuracy 100.0\n",
      "[[34  0]\n",
      " [ 0 32]]\n",
      "              precision    recall  f1-score   support\n",
      "\n",
      "           0       1.00      1.00      1.00        34\n",
      "           1       1.00      1.00      1.00        32\n",
      "\n",
      "    accuracy                           1.00        66\n",
      "   macro avg       1.00      1.00      1.00        66\n",
      "weighted avg       1.00      1.00      1.00        66\n",
      "\n"
     ]
    }
   ],
   "source": [
    "from sklearn.linear_model import LogisticRegression\n",
    "LR=LogisticRegression()\n",
    "LR.fit(x_train,y_train)\n",
    "predlr=LR.predict(x_test)\n",
    "print(\"Accuracy\",accuracy_score(y_test,predlr)*100)\n",
    "print(confusion_matrix(y_test,predlr))\n",
    "print(classification_report(y_test,predlr))"
   ]
  },
  {
   "cell_type": "markdown",
   "id": "87d6fe30",
   "metadata": {},
   "source": [
    "From the above observation , we can see that the accuracy is 100%  \n",
    "The confusion matrix also shows that there are zero false negative and false positive\n",
    "The classification report shows that the precision for the target variables both 0 and 1 is 100%"
   ]
  },
  {
   "cell_type": "code",
   "execution_count": 204,
   "id": "ccccf629",
   "metadata": {},
   "outputs": [
    {
     "name": "stdout",
     "output_type": "stream",
     "text": [
      "Testing Accuracy 98.48484848484848\n",
      "Training Accuracy 100.0\n",
      "[[33  1]\n",
      " [ 0 32]]\n",
      "              precision    recall  f1-score   support\n",
      "\n",
      "           0       1.00      0.97      0.99        34\n",
      "           1       0.97      1.00      0.98        32\n",
      "\n",
      "    accuracy                           0.98        66\n",
      "   macro avg       0.98      0.99      0.98        66\n",
      "weighted avg       0.99      0.98      0.98        66\n",
      "\n"
     ]
    }
   ],
   "source": [
    "#Decision Tree Classifier\n",
    "from sklearn.tree import DecisionTreeClassifier\n",
    "dt=DecisionTreeClassifier()\n",
    "dt.fit(x_train,y_train)\n",
    "preddt=dt.predict(x_test)\n",
    "pred_train_dtc=dt.predict(x_train)\n",
    "print(\"Testing Accuracy\",accuracy_score(y_test,preddt)*100)\n",
    "print(\"Training Accuracy\",accuracy_score(y_train,pred_train_dtc)*100)\n",
    "print(confusion_matrix(y_test,preddt))\n",
    "print(classification_report(y_test,preddt))\n",
    "\n"
   ]
  },
  {
   "cell_type": "markdown",
   "id": "ff62f3d5",
   "metadata": {},
   "source": [
    "The above result shows the Testing accuracy as : 98.4848484 and Training accuracy as : 100%\n",
    "confusion matrix shows that False positive as 1 and False negative as 0\n",
    "classification report shows precision for target variables 0 as 100 and for 1 as 0.97"
   ]
  },
  {
   "cell_type": "code",
   "execution_count": 205,
   "id": "474d575c",
   "metadata": {},
   "outputs": [
    {
     "name": "stdout",
     "output_type": "stream",
     "text": [
      "Accuracy 100.0\n",
      "[[34  0]\n",
      " [ 0 32]]\n",
      "              precision    recall  f1-score   support\n",
      "\n",
      "           0       1.00      1.00      1.00        34\n",
      "           1       1.00      1.00      1.00        32\n",
      "\n",
      "    accuracy                           1.00        66\n",
      "   macro avg       1.00      1.00      1.00        66\n",
      "weighted avg       1.00      1.00      1.00        66\n",
      "\n"
     ]
    }
   ],
   "source": [
    "#Random Forest Classifier\n",
    "from sklearn.ensemble import RandomForestClassifier\n",
    "rf=RandomForestClassifier(n_estimators=200)\n",
    "rf.fit(x_train,y_train)\n",
    "predrf=rf.predict(x_test)\n",
    "print(\"Accuracy\",accuracy_score(y_test,predrf)*100)\n",
    "print(confusion_matrix(y_test,predrf))\n",
    "print(classification_report(y_test,predrf))\n"
   ]
  },
  {
   "cell_type": "markdown",
   "id": "21bad950",
   "metadata": {},
   "source": [
    "From the above result we can see that accuracy is 100%\n",
    "Confusion matrix shows that False positive is 0 and False negative is 0\n",
    "Classification report shows 100% for 0 and 100% for 1 (target variables)"
   ]
  },
  {
   "cell_type": "code",
   "execution_count": 206,
   "id": "9c5280b1",
   "metadata": {},
   "outputs": [
    {
     "name": "stdout",
     "output_type": "stream",
     "text": [
      "Accuracy 98.48484848484848\n",
      "[[34  0]\n",
      " [ 1 31]]\n",
      "              precision    recall  f1-score   support\n",
      "\n",
      "           0       0.97      1.00      0.99        34\n",
      "           1       1.00      0.97      0.98        32\n",
      "\n",
      "    accuracy                           0.98        66\n",
      "   macro avg       0.99      0.98      0.98        66\n",
      "weighted avg       0.99      0.98      0.98        66\n",
      "\n"
     ]
    }
   ],
   "source": [
    "#SVC\n",
    "from sklearn.svm import SVC\n",
    "svc=SVC()\n",
    "svc.fit(x_train,y_train)\n",
    "ad_pred=svc.predict(x_test)\n",
    "print(\"Accuracy\",accuracy_score(y_test,ad_pred)*100)\n",
    "print(confusion_matrix(y_test,ad_pred))\n",
    "print(classification_report(y_test,ad_pred))\n"
   ]
  },
  {
   "cell_type": "markdown",
   "id": "a5a70175",
   "metadata": {},
   "source": [
    "From the above result we can see thataccuracy is 98.48484848\n",
    "Confusion matrix shows that False positive is 0 and False negative is 1\n",
    "Classification report shows 97% for 0 and 100% for 1 (target variables)"
   ]
  },
  {
   "cell_type": "code",
   "execution_count": 207,
   "id": "e1512f4b",
   "metadata": {},
   "outputs": [
    {
     "name": "stdout",
     "output_type": "stream",
     "text": [
      "Cross validation for Logistic Regression is : 0.905204872646733\n"
     ]
    }
   ],
   "source": [
    "#Cross Validation\n",
    "from sklearn.model_selection import cross_val_score\n",
    "cr_1=cross_val_score(LR,x,y,cv=5)\n",
    "print(\"Cross validation for Logistic Regression is :\",cr_1.mean())"
   ]
  },
  {
   "cell_type": "code",
   "execution_count": 208,
   "id": "3e358a42",
   "metadata": {},
   "outputs": [
    {
     "name": "stdout",
     "output_type": "stream",
     "text": [
      "Cross validation for Decision Tree model is : 0.9005537098560353\n"
     ]
    }
   ],
   "source": [
    "#Cross Validation\n",
    "from sklearn.model_selection import cross_val_score\n",
    "cr_2=cross_val_score(dt,x,y,cv=5)\n",
    "print(\"Cross validation for Decision Tree model is :\",cr_2.mean())"
   ]
  },
  {
   "cell_type": "code",
   "execution_count": 209,
   "id": "165a1e5e",
   "metadata": {},
   "outputs": [
    {
     "name": "stdout",
     "output_type": "stream",
     "text": [
      "Cross validation for Random Forest is : 0.9148394241417497\n"
     ]
    }
   ],
   "source": [
    "#Cross Validation\n",
    "from sklearn.model_selection import cross_val_score\n",
    "cr_3=cross_val_score(rf,x,y,cv=5)\n",
    "print(\"Cross validation for Random Forest is :\",cr_3.mean())"
   ]
  },
  {
   "cell_type": "markdown",
   "id": "7749db05",
   "metadata": {},
   "source": [
    "From the above results of cross validation , the random forest has the highest values of 0.91483"
   ]
  },
  {
   "cell_type": "code",
   "execution_count": null,
   "id": "e48ad70d",
   "metadata": {},
   "outputs": [],
   "source": []
  }
 ],
 "metadata": {
  "kernelspec": {
   "display_name": "Python 3 (ipykernel)",
   "language": "python",
   "name": "python3"
  },
  "language_info": {
   "codemirror_mode": {
    "name": "ipython",
    "version": 3
   },
   "file_extension": ".py",
   "mimetype": "text/x-python",
   "name": "python",
   "nbconvert_exporter": "python",
   "pygments_lexer": "ipython3",
   "version": "3.9.12"
  }
 },
 "nbformat": 4,
 "nbformat_minor": 5
}
