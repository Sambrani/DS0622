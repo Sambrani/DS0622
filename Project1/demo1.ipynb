{
 "cells": [
  {
   "cell_type": "code",
   "execution_count": 3,
   "id": "453a6a2d",
   "metadata": {},
   "outputs": [
    {
     "name": "stdout",
     "output_type": "stream",
     "text": [
      "10\n",
      "20\n",
      "25\n"
     ]
    }
   ],
   "source": [
    "for val in [10,20,25,45,60]:\n",
    "    if val>25:\n",
    "        break\n",
    "    print(val) "
   ]
  },
  {
   "cell_type": "code",
   "execution_count": 4,
   "id": "e45a731d",
   "metadata": {},
   "outputs": [
    {
     "ename": "NameError",
     "evalue": "name 'sampada' is not defined",
     "output_type": "error",
     "traceback": [
      "\u001b[1;31m---------------------------------------------------------------------------\u001b[0m",
      "\u001b[1;31mNameError\u001b[0m                                 Traceback (most recent call last)",
      "Input \u001b[1;32mIn [4]\u001b[0m, in \u001b[0;36m<cell line: 1>\u001b[1;34m()\u001b[0m\n\u001b[1;32m----> 1\u001b[0m \u001b[43msampada\u001b[49m\n",
      "\u001b[1;31mNameError\u001b[0m: name 'sampada' is not defined"
     ]
    }
   ],
   "source": [
    "sampada\n"
   ]
  },
  {
   "cell_type": "code",
   "execution_count": 5,
   "id": "5fe7963e",
   "metadata": {},
   "outputs": [
    {
     "name": "stdout",
     "output_type": "stream",
     "text": [
      "Sampada\n"
     ]
    }
   ],
   "source": [
    "print(\"Sampada\")"
   ]
  },
  {
   "cell_type": "code",
   "execution_count": 6,
   "id": "1aea53c6",
   "metadata": {},
   "outputs": [
    {
     "data": {
      "text/plain": [
       "'abc'"
      ]
     },
     "execution_count": 6,
     "metadata": {},
     "output_type": "execute_result"
    }
   ],
   "source": [
    "'abc'"
   ]
  },
  {
   "cell_type": "code",
   "execution_count": 7,
   "id": "d5268c5e",
   "metadata": {},
   "outputs": [
    {
     "data": {
      "text/plain": [
       "64"
      ]
     },
     "execution_count": 7,
     "metadata": {},
     "output_type": "execute_result"
    }
   ],
   "source": [
    "4**3\n"
   ]
  },
  {
   "cell_type": "code",
   "execution_count": 8,
   "id": "c34acd07",
   "metadata": {},
   "outputs": [
    {
     "data": {
      "text/plain": [
       "3.3333333333333335"
      ]
     },
     "execution_count": 8,
     "metadata": {},
     "output_type": "execute_result"
    }
   ],
   "source": [
    "10/3"
   ]
  },
  {
   "cell_type": "code",
   "execution_count": 9,
   "id": "5f86f7b7",
   "metadata": {},
   "outputs": [
    {
     "data": {
      "text/plain": [
       "3"
      ]
     },
     "execution_count": 9,
     "metadata": {},
     "output_type": "execute_result"
    }
   ],
   "source": [
    "10//3"
   ]
  },
  {
   "cell_type": "code",
   "execution_count": 10,
   "id": "0cfcf2e5",
   "metadata": {},
   "outputs": [
    {
     "data": {
      "text/plain": [
       "1"
      ]
     },
     "execution_count": 10,
     "metadata": {},
     "output_type": "execute_result"
    }
   ],
   "source": [
    "10%3"
   ]
  },
  {
   "cell_type": "code",
   "execution_count": 11,
   "id": "080e2ef7",
   "metadata": {},
   "outputs": [
    {
     "name": "stdout",
     "output_type": "stream",
     "text": [
      "welcome sampada\n"
     ]
    }
   ],
   "source": [
    "print(\"welcome sampada\")"
   ]
  },
  {
   "cell_type": "code",
   "execution_count": 12,
   "id": "94e5711f",
   "metadata": {},
   "outputs": [
    {
     "name": "stdout",
     "output_type": "stream",
     "text": [
      "sampada's laptop\n"
     ]
    }
   ],
   "source": [
    "print(\"sampada's laptop\")"
   ]
  },
  {
   "cell_type": "code",
   "execution_count": 13,
   "id": "9cb0e7e8",
   "metadata": {},
   "outputs": [
    {
     "name": "stdout",
     "output_type": "stream",
     "text": [
      "sampada's \"laptop\"\n"
     ]
    }
   ],
   "source": [
    "print('sampada\\'s \"laptop\"')"
   ]
  },
  {
   "cell_type": "code",
   "execution_count": 14,
   "id": "e61a699b",
   "metadata": {},
   "outputs": [
    {
     "data": {
      "text/plain": [
       "'samsamsamsamsam'"
      ]
     },
     "execution_count": 14,
     "metadata": {},
     "output_type": "execute_result"
    }
   ],
   "source": [
    "5*'sam'"
   ]
  },
  {
   "cell_type": "code",
   "execution_count": 15,
   "id": "9d39a63c",
   "metadata": {},
   "outputs": [
    {
     "name": "stdout",
     "output_type": "stream",
     "text": [
      "welcome to the world of programming\n",
      " all is well\n",
      " lets begin our journey towards python\n"
     ]
    }
   ],
   "source": [
    "print(\"welcome to the world of programming\\n all is well\\n lets begin our journey towards python\")"
   ]
  },
  {
   "cell_type": "code",
   "execution_count": 18,
   "id": "8caaf565",
   "metadata": {},
   "outputs": [
    {
     "name": "stdout",
     "output_type": "stream",
     "text": [
      "c:\\docs\\sam\\newfile\n"
     ]
    }
   ],
   "source": [
    "print(r'c:\\docs\\sam\\\\newfile')"
   ]
  },
  {
   "cell_type": "code",
   "execution_count": 20,
   "id": "7461162c",
   "metadata": {},
   "outputs": [
    {
     "name": "stdout",
     "output_type": "stream",
     "text": [
      "c:\\docs\\sam\\newfile\n"
     ]
    }
   ],
   "source": [
    "print(r'c:\\docs\\sam\\newfile')"
   ]
  },
  {
   "cell_type": "code",
   "execution_count": null,
   "id": "8b8ad5e5",
   "metadata": {},
   "outputs": [],
   "source": []
  }
 ],
 "metadata": {
  "kernelspec": {
   "display_name": "Python 3 (ipykernel)",
   "language": "python",
   "name": "python3"
  },
  "language_info": {
   "codemirror_mode": {
    "name": "ipython",
    "version": 3
   },
   "file_extension": ".py",
   "mimetype": "text/x-python",
   "name": "python",
   "nbconvert_exporter": "python",
   "pygments_lexer": "ipython3",
   "version": "3.9.12"
  }
 },
 "nbformat": 4,
 "nbformat_minor": 5
}
